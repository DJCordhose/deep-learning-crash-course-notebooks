{
  "nbformat": 4,
  "nbformat_minor": 0,
  "metadata": {
    "colab": {
      "name": "U3-M5-nn-intro.ipynb",
      "provenance": [],
      "include_colab_link": true
    },
    "kernelspec": {
      "display_name": "Python 3",
      "language": "python",
      "name": "python3"
    },
    "accelerator": "GPU"
  },
  "cells": [
    {
      "cell_type": "markdown",
      "metadata": {
        "id": "view-in-github",
        "colab_type": "text"
      },
      "source": [
        "<a href=\"https://colab.research.google.com/github/DJCordhose/ml-workshop/blob/master/U3-M5-nn-intro.ipynb\" target=\"_parent\"><img src=\"https://colab.research.google.com/assets/colab-badge.svg\" alt=\"Open In Colab\"/></a>"
      ]
    },
    {
      "cell_type": "markdown",
      "metadata": {
        "id": "XdfXfXK2-CiG"
      },
      "source": [
        "# Introduction to Neural Networks with TensorFlow and Keras layers"
      ]
    },
    {
      "cell_type": "code",
      "metadata": {
        "id": "hJR5Gb0X-CiJ"
      },
      "source": [
        "import warnings\n",
        "warnings.filterwarnings('ignore')"
      ],
      "execution_count": 16,
      "outputs": []
    },
    {
      "cell_type": "code",
      "metadata": {
        "id": "H6-QKhzW-CiN",
        "colab": {
          "base_uri": "https://localhost:8080/"
        },
        "outputId": "f023af54-6dc0-431c-a5f4-ed92503b8ae4"
      },
      "source": [
        "%matplotlib inline\n",
        "%pylab inline\n",
        "import matplotlib.pyplot as plt"
      ],
      "execution_count": 17,
      "outputs": [
        {
          "output_type": "stream",
          "text": [
            "Populating the interactive namespace from numpy and matplotlib\n"
          ],
          "name": "stdout"
        }
      ]
    },
    {
      "cell_type": "code",
      "metadata": {
        "id": "ezwqxSlf-CiS",
        "colab": {
          "base_uri": "https://localhost:8080/"
        },
        "outputId": "d7f4ae07-78c0-4fa1-8e62-1901508a404d"
      },
      "source": [
        "import pandas as pd\n",
        "print(pd.__version__)"
      ],
      "execution_count": 18,
      "outputs": [
        {
          "output_type": "stream",
          "text": [
            "1.1.5\n"
          ],
          "name": "stdout"
        }
      ]
    },
    {
      "cell_type": "code",
      "metadata": {
        "id": "0rEa6M11-CiY",
        "colab": {
          "base_uri": "https://localhost:8080/"
        },
        "outputId": "1965d64d-8ec9-4c45-e888-8ce785034e47"
      },
      "source": [
        "try:\n",
        "  # %tensorflow_version only exists in Colab.\n",
        "  %tensorflow_version 1.x\n",
        "except Exception:\n",
        "  pass\n",
        "\n",
        "import tensorflow as tf\n",
        "print(tf.__version__)"
      ],
      "execution_count": 19,
      "outputs": [
        {
          "output_type": "stream",
          "text": [
            "1.15.2\n"
          ],
          "name": "stdout"
        }
      ]
    },
    {
      "cell_type": "code",
      "metadata": {
        "id": "SiHGGkyv-Cic",
        "colab": {
          "base_uri": "https://localhost:8080/"
        },
        "outputId": "d45177db-0d72-4d29-ac1f-bc30f960a824"
      },
      "source": [
        "# let's see what compute devices we have available, hopefully a GPU \n",
        "sess = tf.Session()\n",
        "devices = sess.list_devices()\n",
        "for d in devices:\n",
        "    print(d.name)"
      ],
      "execution_count": 20,
      "outputs": [
        {
          "output_type": "stream",
          "text": [
            "/job:localhost/replica:0/task:0/device:CPU:0\n",
            "/job:localhost/replica:0/task:0/device:XLA_CPU:0\n",
            "/job:localhost/replica:0/task:0/device:XLA_GPU:0\n",
            "/job:localhost/replica:0/task:0/device:GPU:0\n"
          ],
          "name": "stdout"
        }
      ]
    },
    {
      "cell_type": "code",
      "metadata": {
        "id": "INqnlwV7-Cif",
        "colab": {
          "base_uri": "https://localhost:8080/"
        },
        "outputId": "f4a79919-9776-4413-c526-34e1f2b41350"
      },
      "source": [
        "# a small sanity check, does tf seem to work ok?\n",
        "hello = tf.constant('Hello TF!')\n",
        "print(sess.run(hello))"
      ],
      "execution_count": 21,
      "outputs": [
        {
          "output_type": "stream",
          "text": [
            "b'Hello TF!'\n"
          ],
          "name": "stdout"
        }
      ]
    },
    {
      "cell_type": "code",
      "metadata": {
        "id": "IxMwM-z--Cik",
        "colab": {
          "base_uri": "https://localhost:8080/"
        },
        "outputId": "274eb727-4cb9-4b51-974b-72d3f4136043"
      },
      "source": [
        "from tensorflow import keras\n",
        "print(keras.__version__)"
      ],
      "execution_count": 22,
      "outputs": [
        {
          "output_type": "stream",
          "text": [
            "2.2.4-tf\n"
          ],
          "name": "stdout"
        }
      ]
    },
    {
      "cell_type": "markdown",
      "metadata": {
        "id": "TcNRk70X-Cio"
      },
      "source": [
        "## Loading and preparing our data set for classification"
      ]
    },
    {
      "cell_type": "code",
      "metadata": {
        "id": "p-opqU1j-Cir",
        "colab": {
          "base_uri": "https://localhost:8080/"
        },
        "outputId": "9956c03c-935d-4263-e9e7-c4334660dc77"
      },
      "source": [
        "!curl -O https://raw.githubusercontent.com/DJCordhose/deep-learning-crash-course-notebooks/master/data/insurance-customers-1500.csv"
      ],
      "execution_count": 23,
      "outputs": [
        {
          "output_type": "stream",
          "text": [
            "  % Total    % Received % Xferd  Average Speed   Time    Time     Time  Current\n",
            "                                 Dload  Upload   Total   Spent    Left  Speed\n",
            "\r  0     0    0     0    0     0      0      0 --:--:-- --:--:-- --:--:--     0\r100 26783  100 26783    0     0   435k      0 --:--:-- --:--:-- --:--:--  435k\n"
          ],
          "name": "stdout"
        }
      ]
    },
    {
      "cell_type": "code",
      "metadata": {
        "id": "aHeWRyn4-Civ"
      },
      "source": [
        "df = pd.read_csv('./insurance-customers-1500.csv', sep=';')"
      ],
      "execution_count": 24,
      "outputs": []
    },
    {
      "cell_type": "code",
      "metadata": {
        "id": "AfSNEY1E-Ciy",
        "colab": {
          "base_uri": "https://localhost:8080/",
          "height": 203
        },
        "outputId": "5bed624e-bd13-4472-fab6-0ca227d7cc9f"
      },
      "source": [
        "df.head()"
      ],
      "execution_count": 25,
      "outputs": [
        {
          "output_type": "execute_result",
          "data": {
            "text/html": [
              "<div>\n",
              "<style scoped>\n",
              "    .dataframe tbody tr th:only-of-type {\n",
              "        vertical-align: middle;\n",
              "    }\n",
              "\n",
              "    .dataframe tbody tr th {\n",
              "        vertical-align: top;\n",
              "    }\n",
              "\n",
              "    .dataframe thead th {\n",
              "        text-align: right;\n",
              "    }\n",
              "</style>\n",
              "<table border=\"1\" class=\"dataframe\">\n",
              "  <thead>\n",
              "    <tr style=\"text-align: right;\">\n",
              "      <th></th>\n",
              "      <th>speed</th>\n",
              "      <th>age</th>\n",
              "      <th>miles</th>\n",
              "      <th>group</th>\n",
              "    </tr>\n",
              "  </thead>\n",
              "  <tbody>\n",
              "    <tr>\n",
              "      <th>0</th>\n",
              "      <td>98.0</td>\n",
              "      <td>44.0</td>\n",
              "      <td>25.0</td>\n",
              "      <td>1</td>\n",
              "    </tr>\n",
              "    <tr>\n",
              "      <th>1</th>\n",
              "      <td>118.0</td>\n",
              "      <td>54.0</td>\n",
              "      <td>24.0</td>\n",
              "      <td>1</td>\n",
              "    </tr>\n",
              "    <tr>\n",
              "      <th>2</th>\n",
              "      <td>111.0</td>\n",
              "      <td>26.0</td>\n",
              "      <td>34.0</td>\n",
              "      <td>0</td>\n",
              "    </tr>\n",
              "    <tr>\n",
              "      <th>3</th>\n",
              "      <td>97.0</td>\n",
              "      <td>25.0</td>\n",
              "      <td>10.0</td>\n",
              "      <td>2</td>\n",
              "    </tr>\n",
              "    <tr>\n",
              "      <th>4</th>\n",
              "      <td>114.0</td>\n",
              "      <td>38.0</td>\n",
              "      <td>22.0</td>\n",
              "      <td>1</td>\n",
              "    </tr>\n",
              "  </tbody>\n",
              "</table>\n",
              "</div>"
            ],
            "text/plain": [
              "   speed   age  miles  group\n",
              "0   98.0  44.0   25.0      1\n",
              "1  118.0  54.0   24.0      1\n",
              "2  111.0  26.0   34.0      0\n",
              "3   97.0  25.0   10.0      2\n",
              "4  114.0  38.0   22.0      1"
            ]
          },
          "metadata": {
            "tags": []
          },
          "execution_count": 25
        }
      ]
    },
    {
      "cell_type": "code",
      "metadata": {
        "id": "sws5BYF4-Ci4",
        "colab": {
          "base_uri": "https://localhost:8080/",
          "height": 296
        },
        "outputId": "eb82f3df-9df1-46ad-ab97-474ca8c1e911"
      },
      "source": [
        "df.describe()"
      ],
      "execution_count": 26,
      "outputs": [
        {
          "output_type": "execute_result",
          "data": {
            "text/html": [
              "<div>\n",
              "<style scoped>\n",
              "    .dataframe tbody tr th:only-of-type {\n",
              "        vertical-align: middle;\n",
              "    }\n",
              "\n",
              "    .dataframe tbody tr th {\n",
              "        vertical-align: top;\n",
              "    }\n",
              "\n",
              "    .dataframe thead th {\n",
              "        text-align: right;\n",
              "    }\n",
              "</style>\n",
              "<table border=\"1\" class=\"dataframe\">\n",
              "  <thead>\n",
              "    <tr style=\"text-align: right;\">\n",
              "      <th></th>\n",
              "      <th>speed</th>\n",
              "      <th>age</th>\n",
              "      <th>miles</th>\n",
              "      <th>group</th>\n",
              "    </tr>\n",
              "  </thead>\n",
              "  <tbody>\n",
              "    <tr>\n",
              "      <th>count</th>\n",
              "      <td>1500.000000</td>\n",
              "      <td>1500.000000</td>\n",
              "      <td>1500.000000</td>\n",
              "      <td>1500.000000</td>\n",
              "    </tr>\n",
              "    <tr>\n",
              "      <th>mean</th>\n",
              "      <td>122.492667</td>\n",
              "      <td>44.980667</td>\n",
              "      <td>30.434000</td>\n",
              "      <td>0.998667</td>\n",
              "    </tr>\n",
              "    <tr>\n",
              "      <th>std</th>\n",
              "      <td>17.604333</td>\n",
              "      <td>17.130400</td>\n",
              "      <td>15.250815</td>\n",
              "      <td>0.816768</td>\n",
              "    </tr>\n",
              "    <tr>\n",
              "      <th>min</th>\n",
              "      <td>68.000000</td>\n",
              "      <td>16.000000</td>\n",
              "      <td>1.000000</td>\n",
              "      <td>0.000000</td>\n",
              "    </tr>\n",
              "    <tr>\n",
              "      <th>25%</th>\n",
              "      <td>108.000000</td>\n",
              "      <td>32.000000</td>\n",
              "      <td>18.000000</td>\n",
              "      <td>0.000000</td>\n",
              "    </tr>\n",
              "    <tr>\n",
              "      <th>50%</th>\n",
              "      <td>120.000000</td>\n",
              "      <td>42.000000</td>\n",
              "      <td>29.000000</td>\n",
              "      <td>1.000000</td>\n",
              "    </tr>\n",
              "    <tr>\n",
              "      <th>75%</th>\n",
              "      <td>137.000000</td>\n",
              "      <td>55.000000</td>\n",
              "      <td>42.000000</td>\n",
              "      <td>2.000000</td>\n",
              "    </tr>\n",
              "    <tr>\n",
              "      <th>max</th>\n",
              "      <td>166.000000</td>\n",
              "      <td>100.000000</td>\n",
              "      <td>84.000000</td>\n",
              "      <td>2.000000</td>\n",
              "    </tr>\n",
              "  </tbody>\n",
              "</table>\n",
              "</div>"
            ],
            "text/plain": [
              "             speed          age        miles        group\n",
              "count  1500.000000  1500.000000  1500.000000  1500.000000\n",
              "mean    122.492667    44.980667    30.434000     0.998667\n",
              "std      17.604333    17.130400    15.250815     0.816768\n",
              "min      68.000000    16.000000     1.000000     0.000000\n",
              "25%     108.000000    32.000000    18.000000     0.000000\n",
              "50%     120.000000    42.000000    29.000000     1.000000\n",
              "75%     137.000000    55.000000    42.000000     2.000000\n",
              "max     166.000000   100.000000    84.000000     2.000000"
            ]
          },
          "metadata": {
            "tags": []
          },
          "execution_count": 26
        }
      ]
    },
    {
      "cell_type": "markdown",
      "metadata": {
        "id": "sYiqzG7Y-Ci9"
      },
      "source": [
        "## First important concept: You train a machine with your data to make it learn the relationship between some input data and a certain label - this is called supervised learning"
      ]
    },
    {
      "cell_type": "markdown",
      "metadata": {
        "id": "7UuM67h--Ci-"
      },
      "source": [
        "<img src='https://raw.githubusercontent.com/DJCordhose/deep-learning-crash-course-notebooks/master/img/encoding3.jpg'>"
      ]
    },
    {
      "cell_type": "code",
      "metadata": {
        "id": "PKnruLEO-Ci_"
      },
      "source": [
        "# we deliberately decide \"group\" is going to be our label, \n",
        "# it is often named lower case y\n",
        "y = df['group']"
      ],
      "execution_count": 27,
      "outputs": []
    },
    {
      "cell_type": "code",
      "metadata": {
        "id": "C22IkDWt-CjB"
      },
      "source": [
        "# since 'group' is now the label we want to predict, \n",
        "# we need to remove it from the training data \n",
        "df.drop('group', axis='columns', inplace=True)"
      ],
      "execution_count": 28,
      "outputs": []
    },
    {
      "cell_type": "code",
      "metadata": {
        "id": "JBSDw0v7-CjE"
      },
      "source": [
        "# input data often is named upper case X, \n",
        "# the upper case indicates, that each row is a vector\n",
        "X = df.to_numpy()"
      ],
      "execution_count": 29,
      "outputs": []
    },
    {
      "cell_type": "markdown",
      "metadata": {
        "id": "aaG2cF5X-CjI"
      },
      "source": [
        "## Neural Networks using TensorFlow and Keras layers\n",
        "* Neural Networks consist of artificial neurons you organize in layers\n",
        "* each neuron is very simple, but, theoretically, having enough of them in a single layer can approximate any funtion\n",
        "* practically, we use 2 or 3 layers, as this has turned out to work well\n",
        "* the more neurons and the more layers you use the longer the network takes to train\n",
        "* neural networks often are no longer approachable using cross validation and grid search to find suitable hyper parameters"
      ]
    },
    {
      "cell_type": "markdown",
      "metadata": {
        "id": "hLpFL8Az-CjI"
      },
      "source": [
        "## Neuron (aka node or unit)\n",
        "\n",
        "A neuron takes a number of numerical inputs, multiplies each with a weight, sums up all weighted input and adds bias (constant) to that sum. From this it creates a single numerical output. For one input (one dimension) this would be a description of a line. For more dimensions this describes a hyper plane that can serve as a decision boundary. Typically, this output is transformed using an activation function which compresses the output to a value between 0 and 1 (sigmoid), or between -1 and 1 (tanh) or sets all negative values to zero (relu).\n",
        "\n",
        "It is not really important to understand the details of a neural network. Practically how you configure them to form something more powerful is much more important. This, however, is still a very experimental domain, so there really is no conscise explanation and understanding how they work.\n",
        "\n",
        "<img src='https://raw.githubusercontent.com/DJCordhose/deep-learning-crash-course-notebooks/master/img/neuron.jpg'>"
      ]
    },
    {
      "cell_type": "markdown",
      "metadata": {
        "id": "wqxVRG2H-CjJ"
      },
      "source": [
        "### We use a sequential mode, that means data flows without junctions from in to out"
      ]
    },
    {
      "cell_type": "code",
      "metadata": {
        "id": "dFHfRNI2-CjK"
      },
      "source": [
        "model = keras.Sequential()"
      ],
      "execution_count": 30,
      "outputs": []
    },
    {
      "cell_type": "markdown",
      "metadata": {
        "id": "YI3EeBRv-CjO"
      },
      "source": [
        "### We start with a single fully connected layer having 50 neurons\n",
        "* we have three inputs\n",
        "  * age \n",
        "  * speed\n",
        "  * miles\n",
        "* activation function is tanh\n",
        "* why these parameters: random for now"
      ]
    },
    {
      "cell_type": "code",
      "metadata": {
        "id": "klm54Eiw-CjO",
        "colab": {
          "base_uri": "https://localhost:8080/"
        },
        "outputId": "3c8bcf1b-3699-4281-a036-b36099038d1f"
      },
      "source": [
        "from tensorflow.keras.layers import Dense\n",
        "\n",
        "model.add(Dense(50, name='hidden1', activation='tanh', input_dim=3))"
      ],
      "execution_count": 31,
      "outputs": [
        {
          "output_type": "stream",
          "text": [
            "WARNING:tensorflow:From /tensorflow-1.15.2/python3.7/tensorflow_core/python/ops/resource_variable_ops.py:1630: calling BaseResourceVariable.__init__ (from tensorflow.python.ops.resource_variable_ops) with constraint is deprecated and will be removed in a future version.\n",
            "Instructions for updating:\n",
            "If using Keras pass *_constraint arguments to layers.\n"
          ],
          "name": "stdout"
        }
      ]
    },
    {
      "cell_type": "markdown",
      "metadata": {
        "id": "OGwiKJh4-CjR"
      },
      "source": [
        "### The final layer just transforms to likelyhood for each of our 3 classes"
      ]
    },
    {
      "cell_type": "code",
      "metadata": {
        "id": "ZixW-75K-CjS"
      },
      "source": [
        "num_categories = 3\n",
        "model.add(Dense(num_categories, name='softmax', activation='softmax'))"
      ],
      "execution_count": 32,
      "outputs": []
    },
    {
      "cell_type": "markdown",
      "metadata": {
        "id": "MH_gda8M-CjU"
      },
      "source": [
        "### First, let us have a look at how the input and output from this model would look like\n",
        "\n",
        "* this model has not been trainined, so do not expect the outputs to be reasonable\n",
        "* we are only interested in the format of input and output\n",
        "* note that there is a mismatch between prediction and our known truths in format\n",
        "* we will fix this in the next step"
      ]
    },
    {
      "cell_type": "code",
      "metadata": {
        "id": "M0JQ_Wm_-CjU"
      },
      "source": [
        "input = X[0:10]"
      ],
      "execution_count": 33,
      "outputs": []
    },
    {
      "cell_type": "code",
      "metadata": {
        "id": "UYYe3Uzw-CjX",
        "colab": {
          "base_uri": "https://localhost:8080/"
        },
        "outputId": "1e9b9157-3cf3-4cd9-e277-2918b0f85870"
      },
      "source": [
        "# combinations of customer data\n",
        "input"
      ],
      "execution_count": 34,
      "outputs": [
        {
          "output_type": "execute_result",
          "data": {
            "text/plain": [
              "array([[ 98.,  44.,  25.],\n",
              "       [118.,  54.,  24.],\n",
              "       [111.,  26.,  34.],\n",
              "       [ 97.,  25.,  10.],\n",
              "       [114.,  38.,  22.],\n",
              "       [130.,  55.,  34.],\n",
              "       [118.,  40.,  51.],\n",
              "       [143.,  42.,  34.],\n",
              "       [120.,  41.,  42.],\n",
              "       [148.,  33.,  53.]])"
            ]
          },
          "metadata": {
            "tags": []
          },
          "execution_count": 34
        }
      ]
    },
    {
      "cell_type": "code",
      "metadata": {
        "id": "3pSqeszs-Cjc",
        "colab": {
          "base_uri": "https://localhost:8080/"
        },
        "outputId": "4ded7f33-564c-4ada-9cd8-59c98a59612c"
      },
      "source": [
        "# predicted output: likeliyhoods for groups\n",
        "model.predict(input)"
      ],
      "execution_count": 35,
      "outputs": [
        {
          "output_type": "execute_result",
          "data": {
            "text/plain": [
              "array([[0.09149671, 0.75114197, 0.15736125],\n",
              "       [0.09208293, 0.75186545, 0.15605159],\n",
              "       [0.16000864, 0.6716955 , 0.1682959 ],\n",
              "       [0.1570287 , 0.7459467 , 0.09702452],\n",
              "       [0.1019095 , 0.7446256 , 0.15346496],\n",
              "       [0.0921184 , 0.7517757 , 0.15610592],\n",
              "       [0.09848665, 0.7508392 , 0.15067425],\n",
              "       [0.166891  , 0.64338267, 0.18972631],\n",
              "       [0.10336131, 0.73320097, 0.16343771],\n",
              "       [0.11291179, 0.7564154 , 0.13067277]], dtype=float32)"
            ]
          },
          "metadata": {
            "tags": []
          },
          "execution_count": 35
        }
      ]
    },
    {
      "cell_type": "code",
      "metadata": {
        "id": "staTVEsp-Cjf",
        "colab": {
          "base_uri": "https://localhost:8080/"
        },
        "outputId": "6b8b04b2-3a43-490e-84de-77f523f2d816"
      },
      "source": [
        "# true, known output\n",
        "y[0:10]"
      ],
      "execution_count": 36,
      "outputs": [
        {
          "output_type": "execute_result",
          "data": {
            "text/plain": [
              "0    1\n",
              "1    1\n",
              "2    0\n",
              "3    2\n",
              "4    1\n",
              "5    0\n",
              "6    0\n",
              "7    1\n",
              "8    2\n",
              "9    0\n",
              "Name: group, dtype: int64"
            ]
          },
          "metadata": {
            "tags": []
          },
          "execution_count": 36
        }
      ]
    },
    {
      "cell_type": "markdown",
      "metadata": {
        "id": "60QFCfa_-Cji"
      },
      "source": [
        "### These are the parameters of the model that need to be learned"
      ]
    },
    {
      "cell_type": "code",
      "metadata": {
        "id": "lqt6PpWM-Cjj",
        "colab": {
          "base_uri": "https://localhost:8080/"
        },
        "outputId": "984b00c5-0d4d-4f71-8978-c86c566bb617"
      },
      "source": [
        "model.summary()"
      ],
      "execution_count": 37,
      "outputs": [
        {
          "output_type": "stream",
          "text": [
            "Model: \"sequential\"\n",
            "_________________________________________________________________\n",
            "Layer (type)                 Output Shape              Param #   \n",
            "=================================================================\n",
            "hidden1 (Dense)              (None, 50)                200       \n",
            "_________________________________________________________________\n",
            "softmax (Dense)              (None, 3)                 153       \n",
            "=================================================================\n",
            "Total params: 353\n",
            "Trainable params: 353\n",
            "Non-trainable params: 0\n",
            "_________________________________________________________________\n"
          ],
          "name": "stdout"
        }
      ]
    },
    {
      "cell_type": "markdown",
      "metadata": {
        "id": "CSI3mK9y-Cjm"
      },
      "source": [
        "### Bringing it all together\n",
        "* _sparse_categorical_crossentropy_\n",
        "  * _crossentropy_: Loss is defined by https://en.wikipedia.org/wiki/Cross_entropy\n",
        "  * _categorical_: we are comparing categorical data\n",
        "  * _sparse_: allows us to leave our labels as they are without explicitly turning them into a one-hot encoding \n",
        "* _adam_: is the least tedious algorithm to minimize loss (http://cs231n.github.io/neural-networks-3/#ada)\n",
        "  * auto-tunes most important parameters including learning rate   "
      ]
    },
    {
      "cell_type": "code",
      "metadata": {
        "id": "s2EaOaxL-Cjn"
      },
      "source": [
        "model.compile(loss='sparse_categorical_crossentropy',\n",
        "             optimizer='adam')"
      ],
      "execution_count": 38,
      "outputs": []
    },
    {
      "cell_type": "markdown",
      "metadata": {
        "id": "B-OpSEsA-Cjr"
      },
      "source": [
        "# Caution: we have not trained our model, yet, the parameters are still initinialized randomly"
      ]
    },
    {
      "cell_type": "code",
      "metadata": {
        "id": "R-yVJfKD-Cjs"
      },
      "source": [
        ""
      ],
      "execution_count": 38,
      "outputs": []
    }
  ]
}