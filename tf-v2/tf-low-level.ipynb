{
  "nbformat": 4,
  "nbformat_minor": 0,
  "metadata": {
    "colab": {
      "name": "tf-low-level.ipynb",
      "version": "0.3.2",
      "provenance": [],
      "include_colab_link": true
    },
    "kernelspec": {
      "display_name": "Python 3",
      "language": "python",
      "name": "python3"
    },
    "accelerator": "GPU"
  },
  "cells": [
    {
      "cell_type": "markdown",
      "metadata": {
        "id": "view-in-github",
        "colab_type": "text"
      },
      "source": [
        "<a href=\"https://colab.research.google.com/github/DJCordhose/deep-learning-crash-course-notebooks/blob/master/tf-v2/tf-low-level.ipynb\" target=\"_parent\"><img src=\"https://colab.research.google.com/assets/colab-badge.svg\" alt=\"Open In Colab\"/></a>"
      ]
    },
    {
      "metadata": {
        "id": "XdfXfXK2-CiG",
        "colab_type": "text"
      },
      "cell_type": "markdown",
      "source": [
        "# Introduction to Neural Networks with Low Level TensorFlow 2\n",
        "\n",
        "Based on \n",
        "* This thread is a crash course on everything you need to know to use TensorFlow 2.0 + Keras for deep learning research: https://twitter.com/fchollet/status/1105139360226140160\n",
        "* Colab Notebook _tf.keras for Researchers_: https://colab.research.google.com/drive/17u-pRZJnKN0gO5XZmq8n5A2bKGrfKEUg#scrollTo=UHOOlixcQ9Gl\n",
        "* Effective TensorFlow 2: https://www.tensorflow.org/alpha/guide/effective_tf2\n"
      ]
    },
    {
      "metadata": {
        "id": "u8IonVMfAelY",
        "colab_type": "code",
        "colab": {}
      },
      "cell_type": "code",
      "source": [
        "!pip install -q tf-nightly-gpu-2.0-preview"
      ],
      "execution_count": 0,
      "outputs": []
    },
    {
      "metadata": {
        "id": "0rEa6M11-CiY",
        "colab_type": "code",
        "outputId": "8c42898d-3310-4fa5-c998-47c0c5aca465",
        "colab": {
          "base_uri": "https://localhost:8080/",
          "height": 34
        }
      },
      "cell_type": "code",
      "source": [
        "import tensorflow as tf\n",
        "print(tf.__version__)"
      ],
      "execution_count": 2,
      "outputs": [
        {
          "output_type": "stream",
          "text": [
            "2.0.0-dev20190312\n"
          ],
          "name": "stdout"
        }
      ]
    },
    {
      "metadata": {
        "id": "I35W9tmrRWF3",
        "colab_type": "code",
        "outputId": "84632a4d-27d8-4607-ff92-b61429b63a78",
        "colab": {
          "base_uri": "https://localhost:8080/",
          "height": 34
        }
      },
      "cell_type": "code",
      "source": [
        "# a small sanity check, does tf seem to work ok?\n",
        "hello = tf.constant('Hello TF!')\n",
        "print(\"This works: {}\".format(hello))"
      ],
      "execution_count": 3,
      "outputs": [
        {
          "output_type": "stream",
          "text": [
            "This works: b'Hello TF!'\n"
          ],
          "name": "stdout"
        }
      ]
    },
    {
      "metadata": {
        "id": "DpXHERPSQvMD",
        "colab_type": "code",
        "outputId": "c0cba77a-d6d3-4257-ad13-113af3dc69f8",
        "colab": {
          "base_uri": "https://localhost:8080/",
          "height": 34
        }
      },
      "cell_type": "code",
      "source": [
        "# this should return True even on Colab\n",
        "tf.test.is_gpu_available()"
      ],
      "execution_count": 4,
      "outputs": [
        {
          "output_type": "execute_result",
          "data": {
            "text/plain": [
              "True"
            ]
          },
          "metadata": {
            "tags": []
          },
          "execution_count": 4
        }
      ]
    },
    {
      "metadata": {
        "id": "iZgqH7oOh73-",
        "colab_type": "text"
      },
      "cell_type": "markdown",
      "source": [
        "## Transforming an input to a known output"
      ]
    },
    {
      "metadata": {
        "id": "VsTh2muvh8vi",
        "colab_type": "code",
        "colab": {}
      },
      "cell_type": "code",
      "source": [
        "input = [[-1], [0], [1], [2], [3], [4]]\n",
        "output = [[2], [1], [0], [-1], [-2], [-3]]"
      ],
      "execution_count": 0,
      "outputs": []
    },
    {
      "metadata": {
        "id": "WJ70YqfqiBrt",
        "colab_type": "code",
        "colab": {
          "base_uri": "https://localhost:8080/",
          "height": 378
        },
        "outputId": "a28092b2-7417-4e3c-96ed-dac5ac095954"
      },
      "cell_type": "code",
      "source": [
        "import matplotlib.pyplot as plt\n",
        "\n",
        "plt.xlabel('input')\n",
        "plt.ylabel('output')\n",
        "\n",
        "plt.plot(input, output, 'ro')"
      ],
      "execution_count": 6,
      "outputs": [
        {
          "output_type": "execute_result",
          "data": {
            "text/plain": [
              "[<matplotlib.lines.Line2D at 0x7ff473f0f198>]"
            ]
          },
          "metadata": {
            "tags": []
          },
          "execution_count": 6
        },
        {
          "output_type": "display_data",
          "data": {
            "image/png": "[encoded data removed]",
            "text/plain": [
              "<Figure size 576x396 with 1 Axes>"
            ]
          },
          "metadata": {
            "tags": []
          }
        }
      ]
    },
    {
      "metadata": {
        "id": "IVyyWLjeiPU0",
        "colab_type": "text"
      },
      "cell_type": "markdown",
      "source": [
        "### relation between input and output is linear"
      ]
    },
    {
      "metadata": {
        "id": "XBljtpGIiCOj",
        "colab_type": "code",
        "colab": {
          "base_uri": "https://localhost:8080/",
          "height": 364
        },
        "outputId": "d0c9258a-cf6d-43ff-b651-1811c9c1a8cd"
      },
      "cell_type": "code",
      "source": [
        "plt.plot(input, output)\n",
        "plt.plot(input, output, 'ro')"
      ],
      "execution_count": 7,
      "outputs": [
        {
          "output_type": "execute_result",
          "data": {
            "text/plain": [
              "[<matplotlib.lines.Line2D at 0x7ff47f30d588>]"
            ]
          },
          "metadata": {
            "tags": []
          },
          "execution_count": 7
        },
        {
          "output_type": "display_data",
          "data": {
            "image/png": "[encoded data removed]",
            "text/plain": [
              "<Figure size 576x396 with 1 Axes>"
            ]
          },
          "metadata": {
            "tags": []
          }
        }
      ]
    },
    {
      "metadata": {
        "id": "WKxxou9oirbE",
        "colab_type": "text"
      },
      "cell_type": "markdown",
      "source": [
        "## Defining the model to train\n",
        "\n",
        "untrained single unit (neuron) also outputs a line from same input, although another one \n",
        "\n",
        "### The Artificial Neuron: Foundation of Deep Neural Networks (simplified, more later)\n",
        "\n",
        "* a neuron takes a number of numerical inputs\n",
        "* multiplies each with a weight, sums up all weighted input and  \n",
        "* adds bias (constant) to that sum\n",
        "* from this it creates a single numerical output\n",
        "* for one input (one dimension) this would be a description of a line\n",
        "* for more dimensions this describes a hyper plane that can serve as a decision boundary\n",
        "* this is typically expressed as a matrix multplication plus an addition\n",
        "\n",
        "\n",
        "<img src='https://djcordhose.github.io/ai/img/insurance/neuron211.jpg'>\n",
        "\n",
        "### From single neuron to network in the TensorFlow Playground\n",
        "\n",
        "<img src='https://djcordhose.github.io/ai/img/tf-plaground.png'>\n",
        "\n",
        "https://playground.tensorflow.org/#activation=linear&batchSize=10&dataset=circle&regDataset=reg-plane&learningRate=0.01&regularizationRate=0&noise=0&networkShape=1&seed=0.98437&showTestData=false&discretize=false&percTrainData=50&x=true&y=true&xTimesY=false&xSquared=false&ySquared=false&cosX=false&sinX=false&cosY=false&sinY=false&collectStats=false&problem=classification&initZero=false&hideText=false"
      ]
    },
    {
      "metadata": {
        "id": "IGylP_16koS6",
        "colab_type": "text"
      },
      "cell_type": "markdown",
      "source": [
        "### Defining a layer with a random number of neurons"
      ]
    },
    {
      "metadata": {
        "id": "aMCDcq4JelaE",
        "colab_type": "code",
        "colab": {}
      },
      "cell_type": "code",
      "source": [
        "from tensorflow.keras.layers import Layer\n",
        "\n",
        "class LinearLayer(Layer):\n",
        "  \"\"\"y = w.x + b\"\"\"\n",
        "\n",
        "  def __init__(self, units=1, input_dim=1):\n",
        "      super(LinearLayer, self).__init__()\n",
        "      w_init = tf.random_normal_initializer(stddev=2)\n",
        "      self.w = tf.Variable(\n",
        "          initial_value = w_init(shape=(input_dim, units), dtype='float32'),\n",
        "          trainable=True)\n",
        "      b_init = tf.zeros_initializer()\n",
        "      self.b = tf.Variable(\n",
        "          initial_value = b_init(shape=(units,), dtype='float32'),\n",
        "          trainable=True)\n",
        "\n",
        "  def call(self, inputs):\n",
        "      return tf.matmul(inputs, self.w) + self.b\n",
        "    \n",
        "linear_layer = LinearLayer()"
      ],
      "execution_count": 0,
      "outputs": []
    },
    {
      "metadata": {
        "id": "IlrodnQbkmXZ",
        "colab_type": "text"
      },
      "cell_type": "markdown",
      "source": [
        "### Output of a single untrained neuron"
      ]
    },
    {
      "metadata": {
        "id": "d1FpEmPgjM76",
        "colab_type": "code",
        "colab": {
          "base_uri": "https://localhost:8080/",
          "height": 136
        },
        "outputId": "d6da7523-66e4-46dd-dbf2-d0bd0eb00499"
      },
      "cell_type": "code",
      "source": [
        "x = tf.constant(input, dtype=tf.float32)\n",
        "y_true = tf.constant(output, dtype=tf.float32)\n",
        "y_true"
      ],
      "execution_count": 9,
      "outputs": [
        {
          "output_type": "execute_result",
          "data": {
            "text/plain": [
              "<tf.Tensor: id=25, shape=(6, 1), dtype=float32, numpy=\n",
              "array([[ 2.],\n",
              "       [ 1.],\n",
              "       [ 0.],\n",
              "       [-1.],\n",
              "       [-2.],\n",
              "       [-3.]], dtype=float32)>"
            ]
          },
          "metadata": {
            "tags": []
          },
          "execution_count": 9
        }
      ]
    },
    {
      "metadata": {
        "id": "wJaw2t3ef7Xl",
        "colab_type": "code",
        "colab": {
          "base_uri": "https://localhost:8080/",
          "height": 136
        },
        "outputId": "63db21a7-c088-4962-b58f-5bc9e746b72d"
      },
      "cell_type": "code",
      "source": [
        "y_pred = linear_layer(x)\n",
        "y_pred"
      ],
      "execution_count": 10,
      "outputs": [
        {
          "output_type": "execute_result",
          "data": {
            "text/plain": [
              "<tf.Tensor: id=30, shape=(6, 1), dtype=float32, numpy=\n",
              "array([[-0.06952081],\n",
              "       [ 0.        ],\n",
              "       [ 0.06952081],\n",
              "       [ 0.13904162],\n",
              "       [ 0.20856243],\n",
              "       [ 0.27808324]], dtype=float32)>"
            ]
          },
          "metadata": {
            "tags": []
          },
          "execution_count": 10
        }
      ]
    },
    {
      "metadata": {
        "id": "A5no0NPli-dh",
        "colab_type": "code",
        "colab": {
          "base_uri": "https://localhost:8080/",
          "height": 364
        },
        "outputId": "ea29d242-1fa2-46c2-d150-816bdafa724f"
      },
      "cell_type": "code",
      "source": [
        "plt.plot(x, y_pred)\n",
        "plt.plot(input, output, 'ro')"
      ],
      "execution_count": 11,
      "outputs": [
        {
          "output_type": "execute_result",
          "data": {
            "text/plain": [
              "[<matplotlib.lines.Line2D at 0x7ff471e50e80>]"
            ]
          },
          "metadata": {
            "tags": []
          },
          "execution_count": 11
        },
        {
          "output_type": "display_data",
          "data": {
            "image/png": "[encoded data removed]",
            "text/plain": [
              "<Figure size 576x396 with 1 Axes>"
            ]
          },
          "metadata": {
            "tags": []
          }
        }
      ]
    },
    {
      "metadata": {
        "id": "zAuxRMiMkyX3",
        "colab_type": "text"
      },
      "cell_type": "markdown",
      "source": [
        "## Loss - Mean Squared Error\n",
        "\n",
        "Loss function is the prerequisite to training. We need an objective to optimize for. We calculate the difference between what we get as output and what we would like to get.\n",
        "\n",
        "### Mean Squared Error\n",
        "\n",
        "$MSE = {\\frac {1}{n}}\\sum _{i=1}^{n}(Y_{i}-{\\hat {Y_{i}}})^{2}$\n",
        "\n",
        "\n",
        "https://en.wikipedia.org/wiki/Mean_squared_error\n"
      ]
    },
    {
      "metadata": {
        "id": "S5qBUY18u2BK",
        "colab_type": "code",
        "colab": {}
      },
      "cell_type": "code",
      "source": [
        "loss_fn = tf.losses.mean_squared_error\n",
        "# loss_fn = tf.losses.mean_absolute_error"
      ],
      "execution_count": 0,
      "outputs": []
    },
    {
      "metadata": {
        "id": "pIGGjpC4jdjZ",
        "colab_type": "code",
        "colab": {
          "base_uri": "https://localhost:8080/",
          "height": 34
        },
        "outputId": "ca375896-3f17-4fcc-a416-21ddc6c91b07"
      },
      "cell_type": "code",
      "source": [
        "loss = loss_fn(y_true=tf.squeeze(y_true), y_pred=tf.squeeze(y_pred))\n",
        "print(loss)"
      ],
      "execution_count": 13,
      "outputs": [
        {
          "output_type": "stream",
          "text": [
            "tf.Tensor(3.7014573, shape=(), dtype=float32)\n"
          ],
          "name": "stdout"
        }
      ]
    },
    {
      "metadata": {
        "id": "6DGusRmhk1JU",
        "colab_type": "code",
        "colab": {
          "base_uri": "https://localhost:8080/",
          "height": 34
        },
        "outputId": "2e680286-2d36-4263-8c55-e16ac7bd2e6a"
      },
      "cell_type": "code",
      "source": [
        "tf.keras.losses.mean_squared_error == tf.losses.mean_squared_error"
      ],
      "execution_count": 14,
      "outputs": [
        {
          "output_type": "execute_result",
          "data": {
            "text/plain": [
              "True"
            ]
          },
          "metadata": {
            "tags": []
          },
          "execution_count": 14
        }
      ]
    },
    {
      "metadata": {
        "id": "QzcQowwMsZqg",
        "colab_type": "text"
      },
      "cell_type": "markdown",
      "source": [
        "### Minimize Loss by changing parameters of neuron\n",
        "\n",
        "Move in parameter space in the direction of a descent\n",
        "\n",
        "<img src='https://djcordhose.github.io/ai/img/gradients.jpg'>\n",
        "\n",
        "https://twitter.com/colindcarroll/status/1090266016259534848\n",
        "\n",
        "### Job of the optimizer\n",
        "\n",
        "<img src='https://djcordhose.github.io/ai/img/manning/optimizer.png' height=500>\n",
        "\n"
      ]
    },
    {
      "metadata": {
        "id": "J9C_Whp94Zq2",
        "colab_type": "code",
        "colab": {
          "base_uri": "https://localhost:8080/",
          "height": 34
        },
        "outputId": "9d2b51cc-b7af-46d8-e101-1c95bf07b55e"
      },
      "cell_type": "code",
      "source": [
        "# https://www.tensorflow.org/versions/r2.0/api_docs/python/tf/GradientTape\n",
        "\n",
        "# tape will record operations for automatic differentiation\n",
        "# either by making it record explicily (watch) or \n",
        "# by declaring a varible to be trainable (which we did in the layer above) \n",
        "\n",
        "# f(x) = x^2\n",
        "# f'(x) = 2x\n",
        "# x = 4\n",
        "# f(4) = 16\n",
        "# f'(4) = 8 (that's what we expect)\n",
        "def tape_sample():\n",
        "  x = tf.constant(4.0)\n",
        "  with tf.GradientTape() as tape:\n",
        "    tape.watch(x)\n",
        "    y = x * x\n",
        "  dy_dx = tape.gradient(y, x)\n",
        "  print(dy_dx)\n",
        "  \n",
        "# just a function in order not to interfere with x on the global scope  \n",
        "tape_sample()"
      ],
      "execution_count": 30,
      "outputs": [
        {
          "output_type": "stream",
          "text": [
            "tf.Tensor(8.0, shape=(), dtype=float32)\n"
          ],
          "name": "stdout"
        }
      ]
    },
    {
      "metadata": {
        "id": "iW1nc63fVUm7",
        "colab_type": "code",
        "colab": {}
      },
      "cell_type": "code",
      "source": [
        "linear_layer = LinearLayer()\n",
        "linear_layer.b.assign_add?"
      ],
      "execution_count": 0,
      "outputs": []
    },
    {
      "metadata": {
        "id": "B988o-LuC2wf",
        "colab_type": "code",
        "colab": {}
      },
      "cell_type": "code",
      "source": [
        "EPOCHS = 500\n",
        "learning_rate = 1e-3\n",
        "\n",
        "losses = []\n",
        "weights = []\n",
        "biases = []\n",
        "weights_gradient = []\n",
        "biases_gradient = []\n",
        "\n",
        "linear_layer = LinearLayer()\n",
        "\n",
        "for step in range(EPOCHS):\n",
        "  # Open a GradientTape.\n",
        "  with tf.GradientTape() as tape:\n",
        "\n",
        "    # Forward pass.\n",
        "    y_pred = linear_layer(x)\n",
        "\n",
        "    # Loss value for this batch.\n",
        "    loss = loss_fn(y_true=tf.squeeze(y_true), y_pred=tf.squeeze(y_pred))\n",
        "    \n",
        "  losses.append(loss.numpy())\n",
        "  weights.append(linear_layer.w.numpy()[0][0])\n",
        "  biases.append(linear_layer.b.numpy()[0])\n",
        "\n",
        "  # Get gradients of weights wrt the loss.\n",
        "  gradients = tape.gradient(loss, linear_layer.trainable_weights)\n",
        "  weights_gradient.append(gradients[0].numpy()[0][0])\n",
        "  biases_gradient.append(gradients[1].numpy()[0])\n",
        "  \n",
        "  linear_layer.w.assign_sub(learning_rate)\n",
        "  linear_layer.w -= learning_rate * \n",
        "  \n",
        "  \n",
        "  # Update the weights of our linear layer.\n",
        "#   optimizer.apply_gradients(zip(gradients, linear_layer.trainable_weights))"
      ],
      "execution_count": 0,
      "outputs": []
    },
    {
      "metadata": {
        "id": "-d1PI3AzXqf5",
        "colab_type": "code",
        "colab": {
          "base_uri": "https://localhost:8080/",
          "height": 609
        },
        "outputId": "642e374f-ec80-4d5b-f648-1ad8d4460233"
      },
      "cell_type": "code",
      "source": [
        "plt.figure(figsize=(20, 10))\n",
        "plt.plot(losses)\n",
        "plt.plot(weights)\n",
        "plt.plot(biases)\n",
        "plt.plot(weights_gradient)\n",
        "plt.plot(biases_gradient)\n",
        "plt.legend(['loss', 'slope', 'offset', 'gradient slope', 'gradient offset'])"
      ],
      "execution_count": 79,
      "outputs": [
        {
          "output_type": "execute_result",
          "data": {
            "text/plain": [
              "<matplotlib.legend.Legend at 0x7ff47159e048>"
            ]
          },
          "metadata": {
            "tags": []
          },
          "execution_count": 79
        },
        {
          "output_type": "display_data",
          "data": {
            "image/png": "[encoded data removed]",
            "text/plain": [
              "<Figure size 1440x720 with 1 Axes>"
            ]
          },
          "metadata": {
            "tags": []
          }
        }
      ]
    },
    {
      "metadata": {
        "id": "vbOJfrtgDQiM",
        "colab_type": "text"
      },
      "cell_type": "markdown",
      "source": [
        "### Prebuilt Optimizers do this job (but a bit more efficient and sohpisticated)"
      ]
    },
    {
      "metadata": {
        "id": "eD2YbeHdDM9y",
        "colab_type": "code",
        "colab": {}
      },
      "cell_type": "code",
      "source": [
        "optimizer = tf.keras.optimizers.SGD(learning_rate=1e-2)"
      ],
      "execution_count": 0,
      "outputs": []
    },
    {
      "metadata": {
        "id": "cEuzqGgktmut",
        "colab_type": "code",
        "colab": {}
      },
      "cell_type": "code",
      "source": [
        "EPOCHS = 500\n",
        "\n",
        "losses = []\n",
        "\n",
        "linear_layer = LinearLayer()\n",
        "\n",
        "for step in range(EPOCHS):\n",
        "  # Open a GradientTape.\n",
        "  with tf.GradientTape() as tape:\n",
        "\n",
        "    # Forward pass.\n",
        "    y_pred = linear_layer(x)\n",
        "\n",
        "    # Loss value for this batch.\n",
        "    loss = loss_fn(y_true=tf.squeeze(y_true), y_pred=tf.squeeze(y_pred))\n",
        "    \n",
        "  losses.append(loss)\n",
        "     \n",
        "  # Get gradients of weights wrt the loss.\n",
        "  gradients = tape.gradient(loss, linear_layer.trainable_weights)\n",
        "  \n",
        "  # Update the weights of our linear layer.\n",
        "  optimizer.apply_gradients(zip(gradients, linear_layer.trainable_weights))"
      ],
      "execution_count": 0,
      "outputs": []
    },
    {
      "metadata": {
        "id": "7ppPurUxvAN6",
        "colab_type": "code",
        "colab": {
          "base_uri": "https://localhost:8080/",
          "height": 34
        },
        "outputId": "3f4493c7-ba24-4db9-965c-8e567cf527ec"
      },
      "cell_type": "code",
      "source": [
        "print(loss)"
      ],
      "execution_count": 18,
      "outputs": [
        {
          "output_type": "stream",
          "text": [
            "tf.Tensor(2.688248e-05, shape=(), dtype=float32)\n"
          ],
          "name": "stdout"
        }
      ]
    },
    {
      "metadata": {
        "id": "cqA4saqR0kbq",
        "colab_type": "code",
        "colab": {
          "base_uri": "https://localhost:8080/",
          "height": 378
        },
        "outputId": "23fb6e32-87c2-49ff-959a-51714c525910"
      },
      "cell_type": "code",
      "source": [
        "# wet dream of every machine learning person (typically you see a noisy curve only sort of going down)\n",
        "\n",
        "# plt.yscale('log')\n",
        "plt.ylabel(\"loss\")\n",
        "plt.xlabel(\"epochs\")\n",
        "\n",
        "plt.plot(losses)"
      ],
      "execution_count": 19,
      "outputs": [
        {
          "output_type": "execute_result",
          "data": {
            "text/plain": [
              "[<matplotlib.lines.Line2D at 0x7ff471dcec50>]"
            ]
          },
          "metadata": {
            "tags": []
          },
          "execution_count": 19
        },
        {
          "output_type": "display_data",
          "data": {
            "image/png": "[encoded data removed]",
            "text/plain": [
              "<Figure size 576x396 with 1 Axes>"
            ]
          },
          "metadata": {
            "tags": []
          }
        }
      ]
    },
    {
      "metadata": {
        "id": "uVAd2J_w2q7R",
        "colab_type": "text"
      },
      "cell_type": "markdown",
      "source": [
        "### Line drawn by neuron after training\n",
        "\n",
        "* result after training is not perfect, but almost looks like the same line\n",
        "* https://en.wikipedia.org/wiki/Linear_equation#Slope%E2%80%93intercept_form\n"
      ]
    },
    {
      "metadata": {
        "id": "BmUVvSdn23Rj",
        "colab_type": "code",
        "colab": {
          "base_uri": "https://localhost:8080/",
          "height": 136
        },
        "outputId": "56813770-8358-4ebe-825d-b5b0848de07f"
      },
      "cell_type": "code",
      "source": [
        "y_pred = linear_layer(x)\n",
        "y_pred"
      ],
      "execution_count": 20,
      "outputs": [
        {
          "output_type": "execute_result",
          "data": {
            "text/plain": [
              "<tf.Tensor: id=26627, shape=(6, 1), dtype=float32, numpy=\n",
              "array([[ 1.9910104 ],\n",
              "       [ 0.99320275],\n",
              "       [-0.00460488],\n",
              "       [-1.0024126 ],\n",
              "       [-2.0002203 ],\n",
              "       [-2.9980278 ]], dtype=float32)>"
            ]
          },
          "metadata": {
            "tags": []
          },
          "execution_count": 20
        }
      ]
    },
    {
      "metadata": {
        "id": "Jg__yr3Z28KQ",
        "colab_type": "code",
        "colab": {
          "base_uri": "https://localhost:8080/",
          "height": 364
        },
        "outputId": "083a53f1-2ab3-4c68-f171-1462388b9cb5"
      },
      "cell_type": "code",
      "source": [
        "plt.plot(x, y_pred)\n",
        "plt.plot(input, output, 'ro')"
      ],
      "execution_count": 21,
      "outputs": [
        {
          "output_type": "execute_result",
          "data": {
            "text/plain": [
              "[<matplotlib.lines.Line2D at 0x7ff471c0e4e0>]"
            ]
          },
          "metadata": {
            "tags": []
          },
          "execution_count": 21
        },
        {
          "output_type": "display_data",
          "data": {
            "image/png": "[encoded data removed]",
            "text/plain": [
              "<Figure size 576x396 with 1 Axes>"
            ]
          },
          "metadata": {
            "tags": []
          }
        }
      ]
    },
    {
      "metadata": {
        "id": "RqXEhKod3Df5",
        "colab_type": "code",
        "colab": {
          "base_uri": "https://localhost:8080/",
          "height": 51
        },
        "outputId": "a4d8ad64-fce2-426a-b2a6-0ca39e6524d3"
      },
      "cell_type": "code",
      "source": [
        "# single neuron and single input: one weight and one bias\n",
        "# slope m ~ -1\n",
        "# y-axis offset y0 ~ 1\n",
        "# https://en.wikipedia.org/wiki/Linear_equation#Slope%E2%80%93intercept_form\n",
        "\n",
        "linear_layer.trainable_weights"
      ],
      "execution_count": 22,
      "outputs": [
        {
          "output_type": "execute_result",
          "data": {
            "text/plain": [
              "[<tf.Variable 'Variable:0' shape=(1, 1) dtype=float32, numpy=array([[-0.9978076]], dtype=float32)>,\n",
              " <tf.Variable 'Variable:0' shape=(1,) dtype=float32, numpy=array([0.99320275], dtype=float32)>]"
            ]
          },
          "metadata": {
            "tags": []
          },
          "execution_count": 22
        }
      ]
    },
    {
      "metadata": {
        "id": "Di66fg-P3LMu",
        "colab_type": "code",
        "colab": {}
      },
      "cell_type": "code",
      "source": [
        ""
      ],
      "execution_count": 0,
      "outputs": []
    }
  ]
}