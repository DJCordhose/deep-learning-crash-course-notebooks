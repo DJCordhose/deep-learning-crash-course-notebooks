{
  "nbformat": 4,
  "nbformat_minor": 0,
  "metadata": {
    "colab": {
      "name": "U3-M5-nn-intro.ipynb",
      "version": "0.3.2",
      "provenance": [],
      "include_colab_link": true
    },
    "kernelspec": {
      "display_name": "Python 3",
      "language": "python",
      "name": "python3"
    },
    "accelerator": "GPU"
  },
  "cells": [
    {
      "cell_type": "markdown",
      "metadata": {
        "id": "view-in-github",
        "colab_type": "text"
      },
      "source": [
        "<a href=\"https://colab.research.google.com/github/DJCordhose/deep-learning-crash-course-notebooks/blob/master/tf-v2/U3-M5-nn-intro.ipynb\" target=\"_parent\"><img src=\"https://colab.research.google.com/assets/colab-badge.svg\" alt=\"Open In Colab\"/></a>"
      ]
    },
    {
      "metadata": {
        "id": "XdfXfXK2-CiG",
        "colab_type": "text"
      },
      "cell_type": "markdown",
      "source": [
        "# Introduction to Neural Networks with TensorFlow and Keras layers\n",
        "\n",
        "## Converted to TensorFlow 2\n"
      ]
    },
    {
      "metadata": {
        "id": "hJR5Gb0X-CiJ",
        "colab_type": "code",
        "colab": {}
      },
      "cell_type": "code",
      "source": [
        "import warnings\n",
        "warnings.filterwarnings('ignore')"
      ],
      "execution_count": 0,
      "outputs": []
    },
    {
      "metadata": {
        "id": "H6-QKhzW-CiN",
        "colab_type": "code",
        "outputId": "ad9700b4-5501-4b6c-ec02-0771602a8946",
        "colab": {
          "base_uri": "https://localhost:8080/",
          "height": 34
        }
      },
      "cell_type": "code",
      "source": [
        "%matplotlib inline\n",
        "%pylab inline\n",
        "import matplotlib.pyplot as plt"
      ],
      "execution_count": 2,
      "outputs": [
        {
          "output_type": "stream",
          "text": [
            "Populating the interactive namespace from numpy and matplotlib\n"
          ],
          "name": "stdout"
        }
      ]
    },
    {
      "metadata": {
        "id": "ezwqxSlf-CiS",
        "colab_type": "code",
        "outputId": "71f358a3-f0bc-463f-a667-47b6a00db060",
        "colab": {
          "base_uri": "https://localhost:8080/",
          "height": 34
        }
      },
      "cell_type": "code",
      "source": [
        "import pandas as pd\n",
        "print(pd.__version__)"
      ],
      "execution_count": 3,
      "outputs": [
        {
          "output_type": "stream",
          "text": [
            "0.22.0\n"
          ],
          "name": "stdout"
        }
      ]
    },
    {
      "metadata": {
        "id": "u8IonVMfAelY",
        "colab_type": "code",
        "colab": {}
      },
      "cell_type": "code",
      "source": [
        "!pip install -q tensorflow-gpu==2.0.0-alpha0"
      ],
      "execution_count": 0,
      "outputs": []
    },
    {
      "metadata": {
        "id": "0rEa6M11-CiY",
        "colab_type": "code",
        "outputId": "84aefd04-66b4-4e93-bf3d-6420ced2cbea",
        "colab": {
          "base_uri": "https://localhost:8080/",
          "height": 34
        }
      },
      "cell_type": "code",
      "source": [
        "import tensorflow as tf\n",
        "print(tf.__version__)"
      ],
      "execution_count": 5,
      "outputs": [
        {
          "output_type": "stream",
          "text": [
            "2.0.0-alpha0\n"
          ],
          "name": "stdout"
        }
      ]
    },
    {
      "metadata": {
        "id": "I35W9tmrRWF3",
        "colab_type": "code",
        "outputId": "1db57ebe-4b0d-4ffc-a8c4-dc33c9049c20",
        "colab": {
          "base_uri": "https://localhost:8080/",
          "height": 34
        }
      },
      "cell_type": "code",
      "source": [
        "# a small sanity check, does tf seem to work ok?\n",
        "hello = tf.constant('Hello TF!')\n",
        "print(\"This works: {}\".format(hello))"
      ],
      "execution_count": 6,
      "outputs": [
        {
          "output_type": "stream",
          "text": [
            "This works: b'Hello TF!'\n"
          ],
          "name": "stdout"
        }
      ]
    },
    {
      "metadata": {
        "id": "DpXHERPSQvMD",
        "colab_type": "code",
        "outputId": "6032b8ec-9338-4818-e06f-368f63087b04",
        "colab": {
          "base_uri": "https://localhost:8080/",
          "height": 34
        }
      },
      "cell_type": "code",
      "source": [
        "# this should return True even on Colab\n",
        "tf.test.is_gpu_available()"
      ],
      "execution_count": 7,
      "outputs": [
        {
          "output_type": "execute_result",
          "data": {
            "text/plain": [
              "True"
            ]
          },
          "metadata": {
            "tags": []
          },
          "execution_count": 7
        }
      ]
    },
    {
      "metadata": {
        "id": "TcNRk70X-Cio",
        "colab_type": "text"
      },
      "cell_type": "markdown",
      "source": [
        "## Loading and preparing our data set for classification"
      ]
    },
    {
      "metadata": {
        "id": "p-opqU1j-Cir",
        "colab_type": "code",
        "outputId": "7d8493f5-78a9-435c-853b-f46356d83512",
        "colab": {
          "base_uri": "https://localhost:8080/",
          "height": 68
        }
      },
      "cell_type": "code",
      "source": [
        "!curl -O https://raw.githubusercontent.com/DJCordhose/deep-learning-crash-course-notebooks/master/data/insurance-customers-1500.csv"
      ],
      "execution_count": 8,
      "outputs": [
        {
          "output_type": "stream",
          "text": [
            "  % Total    % Received % Xferd  Average Speed   Time    Time     Time  Current\n",
            "                                 Dload  Upload   Total   Spent    Left  Speed\n",
            "\r  0     0    0     0    0     0      0      0 --:--:-- --:--:-- --:--:--     0\r  0     0    0     0    0     0      0      0 --:--:-- --:--:-- --:--:--     0\r100 26783  100 26783    0     0  64693      0 --:--:-- --:--:-- --:--:-- 64537\n"
          ],
          "name": "stdout"
        }
      ]
    },
    {
      "metadata": {
        "id": "aHeWRyn4-Civ",
        "colab_type": "code",
        "colab": {}
      },
      "cell_type": "code",
      "source": [
        "df = pd.read_csv('./insurance-customers-1500.csv', sep=';')"
      ],
      "execution_count": 0,
      "outputs": []
    },
    {
      "metadata": {
        "id": "AfSNEY1E-Ciy",
        "colab_type": "code",
        "outputId": "ed4705bb-8134-4129-82f5-e603f03825fc",
        "colab": {
          "base_uri": "https://localhost:8080/",
          "height": 204
        }
      },
      "cell_type": "code",
      "source": [
        "df.head()"
      ],
      "execution_count": 10,
      "outputs": [
        {
          "output_type": "execute_result",
          "data": {
            "text/html": [
              "<div>\n",
              "<style scoped>\n",
              "    .dataframe tbody tr th:only-of-type {\n",
              "        vertical-align: middle;\n",
              "    }\n",
              "\n",
              "    .dataframe tbody tr th {\n",
              "        vertical-align: top;\n",
              "    }\n",
              "\n",
              "    .dataframe thead th {\n",
              "        text-align: right;\n",
              "    }\n",
              "</style>\n",
              "<table border=\"1\" class=\"dataframe\">\n",
              "  <thead>\n",
              "    <tr style=\"text-align: right;\">\n",
              "      <th></th>\n",
              "      <th>speed</th>\n",
              "      <th>age</th>\n",
              "      <th>miles</th>\n",
              "      <th>group</th>\n",
              "    </tr>\n",
              "  </thead>\n",
              "  <tbody>\n",
              "    <tr>\n",
              "      <th>0</th>\n",
              "      <td>98.0</td>\n",
              "      <td>44.0</td>\n",
              "      <td>25.0</td>\n",
              "      <td>1</td>\n",
              "    </tr>\n",
              "    <tr>\n",
              "      <th>1</th>\n",
              "      <td>118.0</td>\n",
              "      <td>54.0</td>\n",
              "      <td>24.0</td>\n",
              "      <td>1</td>\n",
              "    </tr>\n",
              "    <tr>\n",
              "      <th>2</th>\n",
              "      <td>111.0</td>\n",
              "      <td>26.0</td>\n",
              "      <td>34.0</td>\n",
              "      <td>0</td>\n",
              "    </tr>\n",
              "    <tr>\n",
              "      <th>3</th>\n",
              "      <td>97.0</td>\n",
              "      <td>25.0</td>\n",
              "      <td>10.0</td>\n",
              "      <td>2</td>\n",
              "    </tr>\n",
              "    <tr>\n",
              "      <th>4</th>\n",
              "      <td>114.0</td>\n",
              "      <td>38.0</td>\n",
              "      <td>22.0</td>\n",
              "      <td>1</td>\n",
              "    </tr>\n",
              "  </tbody>\n",
              "</table>\n",
              "</div>"
            ],
            "text/plain": [
              "   speed   age  miles  group\n",
              "0   98.0  44.0   25.0      1\n",
              "1  118.0  54.0   24.0      1\n",
              "2  111.0  26.0   34.0      0\n",
              "3   97.0  25.0   10.0      2\n",
              "4  114.0  38.0   22.0      1"
            ]
          },
          "metadata": {
            "tags": []
          },
          "execution_count": 10
        }
      ]
    },
    {
      "metadata": {
        "id": "sws5BYF4-Ci4",
        "colab_type": "code",
        "outputId": "7024185f-516c-48c8-b0ba-7184529b815d",
        "colab": {
          "base_uri": "https://localhost:8080/",
          "height": 297
        }
      },
      "cell_type": "code",
      "source": [
        "df.describe()"
      ],
      "execution_count": 11,
      "outputs": [
        {
          "output_type": "execute_result",
          "data": {
            "text/html": [
              "<div>\n",
              "<style scoped>\n",
              "    .dataframe tbody tr th:only-of-type {\n",
              "        vertical-align: middle;\n",
              "    }\n",
              "\n",
              "    .dataframe tbody tr th {\n",
              "        vertical-align: top;\n",
              "    }\n",
              "\n",
              "    .dataframe thead th {\n",
              "        text-align: right;\n",
              "    }\n",
              "</style>\n",
              "<table border=\"1\" class=\"dataframe\">\n",
              "  <thead>\n",
              "    <tr style=\"text-align: right;\">\n",
              "      <th></th>\n",
              "      <th>speed</th>\n",
              "      <th>age</th>\n",
              "      <th>miles</th>\n",
              "      <th>group</th>\n",
              "    </tr>\n",
              "  </thead>\n",
              "  <tbody>\n",
              "    <tr>\n",
              "      <th>count</th>\n",
              "      <td>1500.000000</td>\n",
              "      <td>1500.000000</td>\n",
              "      <td>1500.000000</td>\n",
              "      <td>1500.000000</td>\n",
              "    </tr>\n",
              "    <tr>\n",
              "      <th>mean</th>\n",
              "      <td>122.492667</td>\n",
              "      <td>44.980667</td>\n",
              "      <td>30.434000</td>\n",
              "      <td>0.998667</td>\n",
              "    </tr>\n",
              "    <tr>\n",
              "      <th>std</th>\n",
              "      <td>17.604333</td>\n",
              "      <td>17.130400</td>\n",
              "      <td>15.250815</td>\n",
              "      <td>0.816768</td>\n",
              "    </tr>\n",
              "    <tr>\n",
              "      <th>min</th>\n",
              "      <td>68.000000</td>\n",
              "      <td>16.000000</td>\n",
              "      <td>1.000000</td>\n",
              "      <td>0.000000</td>\n",
              "    </tr>\n",
              "    <tr>\n",
              "      <th>25%</th>\n",
              "      <td>108.000000</td>\n",
              "      <td>32.000000</td>\n",
              "      <td>18.000000</td>\n",
              "      <td>0.000000</td>\n",
              "    </tr>\n",
              "    <tr>\n",
              "      <th>50%</th>\n",
              "      <td>120.000000</td>\n",
              "      <td>42.000000</td>\n",
              "      <td>29.000000</td>\n",
              "      <td>1.000000</td>\n",
              "    </tr>\n",
              "    <tr>\n",
              "      <th>75%</th>\n",
              "      <td>137.000000</td>\n",
              "      <td>55.000000</td>\n",
              "      <td>42.000000</td>\n",
              "      <td>2.000000</td>\n",
              "    </tr>\n",
              "    <tr>\n",
              "      <th>max</th>\n",
              "      <td>166.000000</td>\n",
              "      <td>100.000000</td>\n",
              "      <td>84.000000</td>\n",
              "      <td>2.000000</td>\n",
              "    </tr>\n",
              "  </tbody>\n",
              "</table>\n",
              "</div>"
            ],
            "text/plain": [
              "             speed          age        miles        group\n",
              "count  1500.000000  1500.000000  1500.000000  1500.000000\n",
              "mean    122.492667    44.980667    30.434000     0.998667\n",
              "std      17.604333    17.130400    15.250815     0.816768\n",
              "min      68.000000    16.000000     1.000000     0.000000\n",
              "25%     108.000000    32.000000    18.000000     0.000000\n",
              "50%     120.000000    42.000000    29.000000     1.000000\n",
              "75%     137.000000    55.000000    42.000000     2.000000\n",
              "max     166.000000   100.000000    84.000000     2.000000"
            ]
          },
          "metadata": {
            "tags": []
          },
          "execution_count": 11
        }
      ]
    },
    {
      "metadata": {
        "id": "sYiqzG7Y-Ci9",
        "colab_type": "text"
      },
      "cell_type": "markdown",
      "source": [
        "## First important concept: You train a machine with your data to make it learn the relationship between some input data and a certain label - this is called supervised learning"
      ]
    },
    {
      "metadata": {
        "id": "7UuM67h--Ci-",
        "colab_type": "text"
      },
      "cell_type": "markdown",
      "source": [
        "<img src='https://raw.githubusercontent.com/DJCordhose/deep-learning-crash-course-notebooks/master/img/encoding3.jpg'>"
      ]
    },
    {
      "metadata": {
        "id": "PKnruLEO-Ci_",
        "colab_type": "code",
        "colab": {}
      },
      "cell_type": "code",
      "source": [
        "# we deliberately decide \"group\" is going to be our label, \n",
        "# it is often named lower case y\n",
        "y = df['group']"
      ],
      "execution_count": 0,
      "outputs": []
    },
    {
      "metadata": {
        "id": "C22IkDWt-CjB",
        "colab_type": "code",
        "colab": {}
      },
      "cell_type": "code",
      "source": [
        "# since 'group' is now the label we want to predict, \n",
        "# we need to remove it from the training data \n",
        "df.drop('group', axis='columns', inplace=True)"
      ],
      "execution_count": 0,
      "outputs": []
    },
    {
      "metadata": {
        "id": "JBSDw0v7-CjE",
        "colab_type": "code",
        "colab": {}
      },
      "cell_type": "code",
      "source": [
        "# input data often is named upper case X, \n",
        "# the upper case indicates, that each row is a vector\n",
        "X = df.as_matrix()"
      ],
      "execution_count": 0,
      "outputs": []
    },
    {
      "metadata": {
        "id": "aaG2cF5X-CjI",
        "colab_type": "text"
      },
      "cell_type": "markdown",
      "source": [
        "## Neural Networks using TensorFlow and Keras layers\n",
        "* Neural Networks consist of artificial neurons you organize in layers\n",
        "* each neuron is very simple, but, theoretically, having enough of them in a single layer can approximate any funtion\n",
        "* practically, we use 2 or 3 layers, as this has turned out to work well\n",
        "* the more neurons and the more layers you use the longer the network takes to train\n",
        "* neural networks often are no longer approachable using cross validation and grid search to find suitable hyper parameters"
      ]
    },
    {
      "metadata": {
        "id": "hLpFL8Az-CjI",
        "colab_type": "text"
      },
      "cell_type": "markdown",
      "source": [
        "## Neuron (aka node or unit)\n",
        "\n",
        "A neuron takes a number of numerical inputs, multiplies each with a weight, sums up all weighted input and adds bias (constant) to that sum. From this it creates a single numerical output. For one input (one dimension) this would be a description of a line. For more dimensions this describes a hyper plane that can serve as a decision boundary. Typically, this output is transformed using an activation function which compresses the output to a value between 0 and 1 (sigmoid), or between -1 and 1 (tanh) or sets all negative values to zero (relu).\n",
        "\n",
        "It is not really important to understand the details of a neural network. Practically how you configure them to form something more powerful is much more important. This, however, is still a very experimental domain, so there really is no conscise explanation and understanding how they work.\n",
        "\n",
        "<img src='https://raw.githubusercontent.com/DJCordhose/deep-learning-crash-course-notebooks/master/img/neuron.jpg'>"
      ]
    },
    {
      "metadata": {
        "id": "wqxVRG2H-CjJ",
        "colab_type": "text"
      },
      "cell_type": "markdown",
      "source": [
        "### We use a sequential mode, that means data flows without junctions from in to out"
      ]
    },
    {
      "metadata": {
        "id": "dFHfRNI2-CjK",
        "colab_type": "code",
        "colab": {}
      },
      "cell_type": "code",
      "source": [
        "model = tf.keras.Sequential()"
      ],
      "execution_count": 0,
      "outputs": []
    },
    {
      "metadata": {
        "id": "YI3EeBRv-CjO",
        "colab_type": "text"
      },
      "cell_type": "markdown",
      "source": [
        "### We start with a single fully connected layer having 50 neurons\n",
        "* we have three inputs\n",
        "  * age \n",
        "  * speed\n",
        "  * miles\n",
        "* activation function is tanh\n",
        "* why these parameters: random for now"
      ]
    },
    {
      "metadata": {
        "id": "klm54Eiw-CjO",
        "colab_type": "code",
        "colab": {}
      },
      "cell_type": "code",
      "source": [
        "from tensorflow.keras.layers import Dense\n",
        "\n",
        "model.add(Dense(50, name='hidden1', activation='tanh', input_dim=3))"
      ],
      "execution_count": 0,
      "outputs": []
    },
    {
      "metadata": {
        "id": "OGwiKJh4-CjR",
        "colab_type": "text"
      },
      "cell_type": "markdown",
      "source": [
        "### The final layer just transforms to likelyhood for each of our 3 classes"
      ]
    },
    {
      "metadata": {
        "id": "ZixW-75K-CjS",
        "colab_type": "code",
        "colab": {}
      },
      "cell_type": "code",
      "source": [
        "num_categories = 3\n",
        "model.add(Dense(num_categories, name='softmax', activation='softmax'))"
      ],
      "execution_count": 0,
      "outputs": []
    },
    {
      "metadata": {
        "id": "MH_gda8M-CjU",
        "colab_type": "text"
      },
      "cell_type": "markdown",
      "source": [
        "### First, let us have a look at how the input and output from this model would look like\n",
        "\n",
        "* this model has not been trainined, so do not expect the outputs to be reasonable\n",
        "* we are only interested in the format of input and output\n",
        "* note that there is a mismatch between prediction and our known truths in format\n",
        "* we will fix this in the next step"
      ]
    },
    {
      "metadata": {
        "id": "M0JQ_Wm_-CjU",
        "colab_type": "code",
        "colab": {}
      },
      "cell_type": "code",
      "source": [
        "input = X[0:10]"
      ],
      "execution_count": 0,
      "outputs": []
    },
    {
      "metadata": {
        "id": "UYYe3Uzw-CjX",
        "colab_type": "code",
        "outputId": "7e226d36-8c9d-4944-8b5c-e30c371d2e04",
        "colab": {
          "base_uri": "https://localhost:8080/",
          "height": 187
        }
      },
      "cell_type": "code",
      "source": [
        "# combinations of customer data\n",
        "input"
      ],
      "execution_count": 19,
      "outputs": [
        {
          "output_type": "execute_result",
          "data": {
            "text/plain": [
              "array([[ 98.,  44.,  25.],\n",
              "       [118.,  54.,  24.],\n",
              "       [111.,  26.,  34.],\n",
              "       [ 97.,  25.,  10.],\n",
              "       [114.,  38.,  22.],\n",
              "       [130.,  55.,  34.],\n",
              "       [118.,  40.,  51.],\n",
              "       [143.,  42.,  34.],\n",
              "       [120.,  41.,  42.],\n",
              "       [148.,  33.,  53.]])"
            ]
          },
          "metadata": {
            "tags": []
          },
          "execution_count": 19
        }
      ]
    },
    {
      "metadata": {
        "id": "3pSqeszs-Cjc",
        "colab_type": "code",
        "outputId": "aafa1702-da24-4c40-e956-4ae8acd9d10d",
        "colab": {
          "base_uri": "https://localhost:8080/",
          "height": 187
        }
      },
      "cell_type": "code",
      "source": [
        "# predicted output: likeliyhoods for groups\n",
        "model.predict(input)"
      ],
      "execution_count": 20,
      "outputs": [
        {
          "output_type": "execute_result",
          "data": {
            "text/plain": [
              "array([[0.42295697, 0.54561335, 0.03142966],\n",
              "       [0.20384331, 0.76741105, 0.02874564],\n",
              "       [0.60754794, 0.36694992, 0.0255021 ],\n",
              "       [0.4345419 , 0.5232202 , 0.04223792],\n",
              "       [0.5017235 , 0.45770618, 0.04057029],\n",
              "       [0.5725717 , 0.39766318, 0.02976514],\n",
              "       [0.48213872, 0.5021494 , 0.01571188],\n",
              "       [0.6111663 , 0.36148164, 0.02735205],\n",
              "       [0.59847176, 0.37703398, 0.02449425],\n",
              "       [0.54673165, 0.433323  , 0.01994533]], dtype=float32)"
            ]
          },
          "metadata": {
            "tags": []
          },
          "execution_count": 20
        }
      ]
    },
    {
      "metadata": {
        "id": "staTVEsp-Cjf",
        "colab_type": "code",
        "outputId": "870ed39d-387c-4fe7-94cc-751f9daeca35",
        "colab": {
          "base_uri": "https://localhost:8080/",
          "height": 204
        }
      },
      "cell_type": "code",
      "source": [
        "# true, known output\n",
        "y[0:10]"
      ],
      "execution_count": 21,
      "outputs": [
        {
          "output_type": "execute_result",
          "data": {
            "text/plain": [
              "0    1\n",
              "1    1\n",
              "2    0\n",
              "3    2\n",
              "4    1\n",
              "5    0\n",
              "6    0\n",
              "7    1\n",
              "8    2\n",
              "9    0\n",
              "Name: group, dtype: int64"
            ]
          },
          "metadata": {
            "tags": []
          },
          "execution_count": 21
        }
      ]
    },
    {
      "metadata": {
        "id": "60QFCfa_-Cji",
        "colab_type": "text"
      },
      "cell_type": "markdown",
      "source": [
        "### These are the parameters of the model that need to be learned"
      ]
    },
    {
      "metadata": {
        "id": "lqt6PpWM-Cjj",
        "colab_type": "code",
        "outputId": "edb435d5-49ad-4ae3-8276-d28918b18323",
        "colab": {
          "base_uri": "https://localhost:8080/",
          "height": 221
        }
      },
      "cell_type": "code",
      "source": [
        "model.summary()"
      ],
      "execution_count": 22,
      "outputs": [
        {
          "output_type": "stream",
          "text": [
            "Model: \"sequential\"\n",
            "_________________________________________________________________\n",
            "Layer (type)                 Output Shape              Param #   \n",
            "=================================================================\n",
            "hidden1 (Dense)              (None, 50)                200       \n",
            "_________________________________________________________________\n",
            "softmax (Dense)              (None, 3)                 153       \n",
            "=================================================================\n",
            "Total params: 353\n",
            "Trainable params: 353\n",
            "Non-trainable params: 0\n",
            "_________________________________________________________________\n"
          ],
          "name": "stdout"
        }
      ]
    },
    {
      "metadata": {
        "id": "CSI3mK9y-Cjm",
        "colab_type": "text"
      },
      "cell_type": "markdown",
      "source": [
        "### Bringing it all together\n",
        "* _sparse_categorical_crossentropy_\n",
        "  * _crossentropy_: Loss is defined by https://en.wikipedia.org/wiki/Cross_entropy\n",
        "  * _categorical_: we are comparing categorical data\n",
        "  * _sparse_: allows us to leave our labels as they are without explicitly turning them into a one-hot encoding \n",
        "* _adam_: is the least tedious algorithm to minimize loss (http://cs231n.github.io/neural-networks-3/#ada)\n",
        "  * auto-tunes most important parameters including learning rate   "
      ]
    },
    {
      "metadata": {
        "id": "s2EaOaxL-Cjn",
        "colab_type": "code",
        "colab": {}
      },
      "cell_type": "code",
      "source": [
        "model.compile(loss='sparse_categorical_crossentropy',\n",
        "             optimizer='adam')"
      ],
      "execution_count": 0,
      "outputs": []
    },
    {
      "metadata": {
        "id": "B-OpSEsA-Cjr",
        "colab_type": "text"
      },
      "cell_type": "markdown",
      "source": [
        "# Caution: we have not trained our model, yet, the parameters are still initinialized randomly"
      ]
    }
  ]
}