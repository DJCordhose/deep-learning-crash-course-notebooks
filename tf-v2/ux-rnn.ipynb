{
  "nbformat": 4,
  "nbformat_minor": 0,
  "metadata": {
    "colab": {
      "name": "ux-rnn.ipynb",
      "version": "0.3.2",
      "provenance": [],
      "toc_visible": true,
      "include_colab_link": true
    },
    "kernelspec": {
      "display_name": "Python 3",
      "language": "python",
      "name": "python3"
    },
    "accelerator": "GPU"
  },
  "cells": [
    {
      "cell_type": "markdown",
      "metadata": {
        "id": "view-in-github",
        "colab_type": "text"
      },
      "source": [
        "<a href=\"https://colab.research.google.com/github/DJCordhose/deep-learning-crash-course-notebooks/blob/master/tf-v2/ux-rnn.ipynb\" target=\"_parent\"><img src=\"https://colab.research.google.com/assets/colab-badge.svg\" alt=\"Open In Colab\"/></a>"
      ]
    },
    {
      "metadata": {
        "colab_type": "text",
        "id": "XdfXfXK2-CiG"
      },
      "cell_type": "markdown",
      "source": [
        "# Training on Mouse-Movements on the Server"
      ]
    },
    {
      "metadata": {
        "colab_type": "code",
        "id": "u8IonVMfAelY",
        "colab": {}
      },
      "cell_type": "code",
      "source": [
        "# for colab\n",
        "# !pip install -q tf-nightly-gpu-2.0-preview"
      ],
      "execution_count": 0,
      "outputs": []
    },
    {
      "metadata": {
        "colab_type": "code",
        "id": "0rEa6M11-CiY",
        "outputId": "0020832a-72f2-493a-e562-86218b8a6915",
        "colab": {
          "base_uri": "https://localhost:8080/",
          "height": 34
        }
      },
      "cell_type": "code",
      "source": [
        "import tensorflow as tf\n",
        "print(tf.__version__)"
      ],
      "execution_count": 1,
      "outputs": [
        {
          "output_type": "stream",
          "text": [
            "1.13.1\n"
          ],
          "name": "stdout"
        }
      ]
    },
    {
      "metadata": {
        "colab_type": "code",
        "id": "I35W9tmrRWF3",
        "outputId": "39a7fcdb-1491-4b49-fd15-026843fbf7f9",
        "colab": {
          "base_uri": "https://localhost:8080/",
          "height": 34
        }
      },
      "cell_type": "code",
      "source": [
        "# a small sanity check, does tf seem to work ok?\n",
        "hello = tf.constant('Hello TF!')\n",
        "print(\"This works: {}\".format(hello))"
      ],
      "execution_count": 2,
      "outputs": [
        {
          "output_type": "stream",
          "text": [
            "This works: Tensor(\"Const:0\", shape=(), dtype=string)\n"
          ],
          "name": "stdout"
        }
      ]
    },
    {
      "metadata": {
        "colab_type": "code",
        "id": "DpXHERPSQvMD",
        "outputId": "a937b5a4-74d2-4947-92df-0b2500dd189c",
        "colab": {
          "base_uri": "https://localhost:8080/",
          "height": 34
        }
      },
      "cell_type": "code",
      "source": [
        "# this should return True even on Colab\n",
        "tf.test.is_gpu_available()"
      ],
      "execution_count": 3,
      "outputs": [
        {
          "output_type": "execute_result",
          "data": {
            "text/plain": [
              "True"
            ]
          },
          "metadata": {
            "tags": []
          },
          "execution_count": 3
        }
      ]
    },
    {
      "metadata": {
        "colab_type": "code",
        "id": "hEoP6O2r3Jvf",
        "outputId": "d40cf5f1-ea37-4ffd-be4e-3e27c6a52d92",
        "colab": {
          "base_uri": "https://localhost:8080/",
          "height": 34
        }
      },
      "cell_type": "code",
      "source": [
        "tf.test.is_built_with_cuda()"
      ],
      "execution_count": 4,
      "outputs": [
        {
          "output_type": "execute_result",
          "data": {
            "text/plain": [
              "True"
            ]
          },
          "metadata": {
            "tags": []
          },
          "execution_count": 4
        }
      ]
    },
    {
      "metadata": {
        "colab_type": "code",
        "id": "PqalzDXr3OiQ",
        "outputId": "f8cf526d-a3c2-4cad-a27e-410a925f97f7",
        "colab": {
          "base_uri": "https://localhost:8080/",
          "height": 34
        }
      },
      "cell_type": "code",
      "source": [
        "tf.executing_eagerly()"
      ],
      "execution_count": 5,
      "outputs": [
        {
          "output_type": "execute_result",
          "data": {
            "text/plain": [
              "False"
            ]
          },
          "metadata": {
            "tags": []
          },
          "execution_count": 5
        }
      ]
    },
    {
      "metadata": {
        "id": "C9a1zn2-_hEY",
        "colab_type": "text"
      },
      "cell_type": "markdown",
      "source": [
        "## load data"
      ]
    },
    {
      "metadata": {
        "id": "iztUacrB_hEZ",
        "colab_type": "code",
        "outputId": "30ce60b3-0224-4b9d-b758-9ec947247eeb",
        "colab": {
          "base_uri": "https://localhost:8080/",
          "height": 34
        }
      },
      "cell_type": "code",
      "source": [
        "import pandas as pd\n",
        "print(pd.__version__)"
      ],
      "execution_count": 6,
      "outputs": [
        {
          "output_type": "stream",
          "text": [
            "0.22.0\n"
          ],
          "name": "stdout"
        }
      ]
    },
    {
      "metadata": {
        "id": "PhJJH5TS_hEc",
        "colab_type": "code",
        "colab": {}
      },
      "cell_type": "code",
      "source": [
        "# local\n",
        "# URL = '../data/sample4.json'\n",
        "\n",
        "# remote\n",
        "URL = 'https://raw.githubusercontent.com/DJCordhose/ux-by-tfjs/master//data/sample4.json'\n",
        "\n",
        "\n",
        "df = pd.read_json(URL, typ='series')"
      ],
      "execution_count": 0,
      "outputs": []
    },
    {
      "metadata": {
        "id": "swqLoJAh_hEe",
        "colab_type": "code",
        "outputId": "9b6e2a10-3ecf-4937-fa62-80e4153627b0",
        "colab": {
          "base_uri": "https://localhost:8080/",
          "height": 34
        }
      },
      "cell_type": "code",
      "source": [
        "len(df)"
      ],
      "execution_count": 8,
      "outputs": [
        {
          "output_type": "execute_result",
          "data": {
            "text/plain": [
              "236"
            ]
          },
          "metadata": {
            "tags": []
          },
          "execution_count": 8
        }
      ]
    },
    {
      "metadata": {
        "id": "GDwXqDcH_hEg",
        "colab_type": "code",
        "outputId": "d1376f66-d354-4ebe-b6c0-4f500fb8aa5a",
        "colab": {
          "base_uri": "https://localhost:8080/",
          "height": 120
        }
      },
      "cell_type": "code",
      "source": [
        "df.head()"
      ],
      "execution_count": 9,
      "outputs": [
        {
          "output_type": "execute_result",
          "data": {
            "text/plain": [
              "0    {'x': [[0, 0, 0, 0, 0], [0, 0, 0, 0, 0], [0, 0...\n",
              "1    {'x': [[0, 0, 0, 0, 0], [0, 0, 0, 0, 0], [0, 0...\n",
              "2    {'x': [[0, 0, 0, 0, 0], [0, 0, 0, 0, 0], [0, 0...\n",
              "3    {'x': [[0, 0, 0, 0, 0], [0, 0, 0, 0, 0], [0, 0...\n",
              "4    {'x': [[0, 0, 0, 0, 0], [0, 0, 0, 0, 0], [0, 0...\n",
              "dtype: object"
            ]
          },
          "metadata": {
            "tags": []
          },
          "execution_count": 9
        }
      ]
    },
    {
      "metadata": {
        "id": "zEtq0mau_hEj",
        "colab_type": "code",
        "colab": {}
      },
      "cell_type": "code",
      "source": [
        "X = [item['x'] for item in df]"
      ],
      "execution_count": 0,
      "outputs": []
    },
    {
      "metadata": {
        "id": "DclzD90x_hEm",
        "colab_type": "code",
        "outputId": "b5424ffd-6161-4574-b8e7-a51d914e0b23",
        "colab": {
          "base_uri": "https://localhost:8080/",
          "height": 3461
        }
      },
      "cell_type": "code",
      "source": [
        "X[0]"
      ],
      "execution_count": 11,
      "outputs": [
        {
          "output_type": "execute_result",
          "data": {
            "text/plain": [
              "[[0, 0, 0, 0, 0],\n",
              " [0, 0, 0, 0, 0],\n",
              " [0, 0, 0, 0, 0],\n",
              " [0, 0, 0, 0, 0],\n",
              " [0, 0, 0, 0, 0],\n",
              " [0, 0, 0, 0, 0],\n",
              " [0, 0, 0, 0, 0],\n",
              " [0, 0, 0, 0, 0],\n",
              " [0, 0, 0, 0, 0],\n",
              " [0, 0, 0, 0, 0],\n",
              " [0, 0, 0, 0, 0],\n",
              " [0, 0, 0, 0, 0],\n",
              " [0, 0, 0, 0, 0],\n",
              " [0, 0, 0, 0, 0],\n",
              " [0, 0, 0, 0, 0],\n",
              " [0, 0, 0, 0, 0],\n",
              " [0, 0, 0, 0, 0],\n",
              " [0, 0, 0, 0, 0],\n",
              " [0, 0, 0, 0, 0],\n",
              " [0, 0, 0, 0, 0],\n",
              " [0, 0, 0, 0, 0],\n",
              " [0, 0, 0, 0, 0],\n",
              " [0, 0, 0, 0, 0],\n",
              " [0, 0, 0, 0, 0],\n",
              " [0, 0, 0, 0, 0],\n",
              " [0, 0, 0, 0, 0],\n",
              " [0, 0, 0, 0, 0],\n",
              " [0, 0, 0, 0, 0],\n",
              " [0, 0, 0, 0, 0],\n",
              " [0, 0, 0, 0, 0],\n",
              " [0, 0, 0, 0, 0],\n",
              " [0, 0, 0, 0, 0],\n",
              " [0, 0, 0, 0, 0],\n",
              " [0, 0, 0, 0, 0],\n",
              " [0, 0, 0, 0, 0],\n",
              " [0, 0, 0, 0, 0],\n",
              " [0, 0, 0, 0, 0],\n",
              " [0, 0, 0, 0, 0],\n",
              " [0, 0, 0, 0, 0],\n",
              " [0, 0, 0, 0, 0],\n",
              " [0, 0, 0, 0, 0],\n",
              " [0, 0, 0, 0, 0],\n",
              " [0, 0, 0, 0, 0],\n",
              " [0, 0, 0, 0, 0],\n",
              " [0, 0, 0, 0, 0],\n",
              " [0, 0, 0, 0, 0],\n",
              " [0, 0, 0, 0, 0],\n",
              " [0, 0, 0, 0, 0],\n",
              " [0, 0, 0, 0, 0],\n",
              " [0, 0, 0, 0, 0],\n",
              " [0, 0, 0, 0, 0],\n",
              " [0, 0, 0, 0, 0],\n",
              " [0, 0, 0, 0, 0],\n",
              " [0, 0, 0, 0, 0],\n",
              " [0, 0, 0, 0, 0],\n",
              " [0, 0, 0, 0, 0],\n",
              " [0, 0, 0, 0, 0],\n",
              " [0, 0, 0, 0, 0],\n",
              " [0, 0, 0, 0, 0],\n",
              " [0, 0, 0, 0, 0],\n",
              " [0, 0, 0, 0, 0],\n",
              " [119, 33, 0, 0, 0],\n",
              " [139, 57, 40, 48, 14],\n",
              " [149, 67, 20, 20, 12],\n",
              " [159, 81, 20, 28, 0],\n",
              " [172, 100, 26, 38, 8],\n",
              " [182, 112, 20, 24, 7],\n",
              " [196, 123, 28, 22, 7],\n",
              " [208, 136, 24, 26, 7],\n",
              " [218, 149, 20, 26, 7],\n",
              " [226, 159, 16, 20, 7],\n",
              " [234, 167, 16, 16, 7],\n",
              " [242, 174, 16, 14, 8],\n",
              " [252, 182, 20, 16, 7],\n",
              " [258, 190, 12, 16, 6],\n",
              " [264, 199, 12, 18, 8],\n",
              " [267, 205, 6, 12, 7],\n",
              " [271, 210, 8, 10, 7],\n",
              " [274, 215, 6, 10, 9],\n",
              " [277, 220, 6, 10, 5],\n",
              " [280, 225, 6, 10, 10],\n",
              " [283, 231, 6, 12, 5],\n",
              " [285, 236, 4, 10, 7],\n",
              " [287, 241, 4, 10, 7],\n",
              " [289, 243, 4, 4, 8],\n",
              " [289, 246, 0, 6, 7],\n",
              " [291, 247, 4, 2, 6],\n",
              " [292, 249, 2, 4, 8],\n",
              " [293, 250, 2, 2, 6],\n",
              " [294, 252, 2, 4, 8],\n",
              " [295, 253, 2, 2, 7],\n",
              " [295, 254, 0, 2, 8],\n",
              " [296, 255, 2, 2, 7],\n",
              " [297, 256, 2, 2, 7],\n",
              " [297, 258, 0, 4, 7],\n",
              " [297, 261, 0, 6, 7],\n",
              " [297, 263, 0, 4, 7],\n",
              " [297, 265, 0, 4, 6],\n",
              " [297, 268, 0, 6, 9],\n",
              " [297, 269, 0, 2, 7],\n",
              " [296, 270, -2, 2, 7],\n",
              " [296, 271, 0, 2, 6],\n",
              " [296, 272, 0, 2, 8],\n",
              " [296, 273, 0, 2, 7],\n",
              " [296, 274, 0, 2, 14],\n",
              " [297, 275, 2, 2, 7],\n",
              " [298, 276, 2, 2, 8],\n",
              " [298, 276, 0, 0, 7],\n",
              " [299, 276, 2, 0, 6],\n",
              " [300, 277, 2, 2, 7],\n",
              " [301, 277, 2, 0, 8],\n",
              " [302, 277, 2, 0, 7],\n",
              " [315, 289, 26, 24, 6060],\n",
              " [343, 323, 56, 68, 4],\n",
              " [367, 355, 48, 64, 8],\n",
              " [397, 401, 60, 92, 7],\n",
              " [425, 440, 56, 78, 8],\n",
              " [425, 441, 0, 2, 6],\n",
              " [463, 508, 76, 134, 7],\n",
              " [466, 513, 6, 10, 7],\n",
              " [473, 523, 14, 20, 7],\n",
              " [476, 528, 6, 10, 7],\n",
              " [478, 531, 4, 6, 7],\n",
              " [478, 531, 0, 0, 8],\n",
              " [478, 532, 0, 2, 7],\n",
              " [486, 535, 16, 6, 165],\n",
              " [495, 539, 18, 8, 6],\n",
              " [506, 544, 22, 10, 8],\n",
              " [521, 549, 30, 10, 7],\n",
              " [537, 554, 32, 10, 8],\n",
              " [547, 557, 20, 6, 6],\n",
              " [561, 560, 28, 6, 7],\n",
              " [578, 563, 34, 6, 7],\n",
              " [587, 565, 18, 4, 7],\n",
              " [589, 566, 4, 2, 8],\n",
              " [606, 574, 34, 16, 7],\n",
              " [614, 580, 16, 12, 7],\n",
              " [624, 594, 20, 28, 8],\n",
              " [633, 607, 18, 26, 6],\n",
              " [640, 625, 14, 36, 7],\n",
              " [641, 627, 2, 4, 7],\n",
              " [650, 661, 18, 68, 9],\n",
              " [650, 661, 0, 0, 13],\n",
              " [649, 674, -2, 26, 230],\n",
              " [648, 684, -2, 20, 6],\n",
              " [648, 693, 0, 18, 7],\n",
              " [649, 702, 2, 18, 9],\n",
              " [650, 711, 2, 18, 5],\n",
              " [650, 720, 0, 18, 7],\n",
              " [653, 726, 6, 12, 8],\n",
              " [654, 731, 2, 10, 7],\n",
              " [330, 733, 0, 0, 2853],\n",
              " [349, 724, 38, -18, 8],\n",
              " [365, 717, 32, -14, 7],\n",
              " [379, 712, 28, -10, 7],\n",
              " [394, 708, 30, -8, 6],\n",
              " [401, 706, 14, -4, 8],\n",
              " [406, 705, 10, -2, 6],\n",
              " [411, 705, 10, 0, 8],\n",
              " [413, 704, 4, -2, 7],\n",
              " [415, 704, 4, 0, 7],\n",
              " [416, 704, 2, 0, 21],\n",
              " [415, 704, -2, 0, 44],\n",
              " [414, 704, -2, 0, 7],\n",
              " [412, 705, -4, 2, 7],\n",
              " [407, 705, -10, 0, 7],\n",
              " [399, 707, -16, 4, 7],\n",
              " [390, 709, -18, 4, 8],\n",
              " [381, 711, -18, 4, 6],\n",
              " [372, 713, -18, 4, 8],\n",
              " [359, 716, -26, 6, 7],\n",
              " [347, 718, -24, 4, 8],\n",
              " [335, 719, -24, 2, 7],\n",
              " [327, 719, -16, 0, 7],\n",
              " [318, 719, -18, 0, 6],\n",
              " [311, 719, -14, 0, 8],\n",
              " [304, 719, -14, 0, 6],\n",
              " [300, 719, -8, 0, 7],\n",
              " [296, 720, -8, 2, 8],\n",
              " [293, 720, -6, 0, 7],\n",
              " [292, 720, -2, 0, 7],\n",
              " [291, 721, -2, 2, 7],\n",
              " [290, 721, -2, 0, 15],\n",
              " [289, 721, -2, 0, 522],\n",
              " [289, 721, 0, 0, 50],\n",
              " [289, 722, 0, 2, 22],\n",
              " [289, 723, 0, 2, 20],\n",
              " [290, 724, 2, 2, 24],\n",
              " [290, 724, 0, 0, 6],\n",
              " [290, 725, 0, 2, 13],\n",
              " [290, 726, 0, 2, 16],\n",
              " [291, 727, 2, 2, 6],\n",
              " [291, 729, 0, 4, 16],\n",
              " [292, 729, 2, 0, 6],\n",
              " [292, 730, 0, 2, 6],\n",
              " [293, 731, 2, 2, 14],\n",
              " [293, 732, 0, 2, 23],\n",
              " [293, 733, 0, 2, 315],\n",
              " [604, 517, 0, 0, 15942],\n",
              " [604, 517, 0, 0, 0]]"
            ]
          },
          "metadata": {
            "tags": []
          },
          "execution_count": 11
        }
      ]
    },
    {
      "metadata": {
        "id": "FyafEJGR_hEp",
        "colab_type": "code",
        "colab": {}
      },
      "cell_type": "code",
      "source": [
        "y = [item['y'] - 1 for item in df]"
      ],
      "execution_count": 0,
      "outputs": []
    },
    {
      "metadata": {
        "id": "zGi3lMlf_hEs",
        "colab_type": "code",
        "outputId": "33a4bcca-18d3-4cab-e750-f9104e8428f6",
        "colab": {
          "base_uri": "https://localhost:8080/",
          "height": 34
        }
      },
      "cell_type": "code",
      "source": [
        "y[0]"
      ],
      "execution_count": 13,
      "outputs": [
        {
          "output_type": "execute_result",
          "data": {
            "text/plain": [
              "0"
            ]
          },
          "metadata": {
            "tags": []
          },
          "execution_count": 13
        }
      ]
    },
    {
      "metadata": {
        "id": "CeIWHq5hBkgs",
        "colab_type": "text"
      },
      "cell_type": "markdown",
      "source": [
        "## pre-process data into chunks"
      ]
    },
    {
      "metadata": {
        "id": "Q9Ll551N_hEw",
        "colab_type": "code",
        "colab": {}
      },
      "cell_type": "code",
      "source": [
        "from math import floor\n",
        "\n",
        "def make_chunks(list_to_chunk, chunk_size):\n",
        "    length = len(list_to_chunk)\n",
        "    assert length / chunk_size == floor(length / chunk_size), \"length of data must be multiple of segment length\"\n",
        "    for chunk_start in range(0, length, chunk_size):\n",
        "        yield list_to_chunk[chunk_start : chunk_start + chunk_size]"
      ],
      "execution_count": 0,
      "outputs": []
    },
    {
      "metadata": {
        "id": "OpTBKfUV_hEy",
        "colab_type": "code",
        "colab": {}
      },
      "cell_type": "code",
      "source": [
        "import numpy as np\n",
        "\n",
        "CHUNK_SIZE = 25\n",
        "# only use the final segments \n",
        "SEGMENTS = 2\n",
        "\n",
        "X_expanded = []\n",
        "y_expanded = []\n",
        "\n",
        "for x_el, y_el in zip(X, y):\n",
        "    chunks = list(make_chunks(x_el, CHUNK_SIZE))\n",
        "    chunks = chunks[len(chunks) - SEGMENTS:]\n",
        "    labels = [y_el] * SEGMENTS\n",
        "    for seq, label in zip(chunks, labels):\n",
        "        X_expanded.append(seq)\n",
        "        y_expanded.append(label)\n",
        "\n",
        "X_expanded = np.array(X_expanded)\n",
        "y_expanded = np.array(y_expanded)"
      ],
      "execution_count": 0,
      "outputs": []
    },
    {
      "metadata": {
        "id": "JKKViYg5_hE3",
        "colab_type": "code",
        "outputId": "8fb66e90-e244-412b-b82e-a519e113c2d1",
        "colab": {
          "base_uri": "https://localhost:8080/",
          "height": 34
        }
      },
      "cell_type": "code",
      "source": [
        "X_expanded.shape"
      ],
      "execution_count": 16,
      "outputs": [
        {
          "output_type": "execute_result",
          "data": {
            "text/plain": [
              "(472, 25, 5)"
            ]
          },
          "metadata": {
            "tags": []
          },
          "execution_count": 16
        }
      ]
    },
    {
      "metadata": {
        "id": "0noYolVg_hE6",
        "colab_type": "code",
        "outputId": "7a8863d7-fad3-45c6-dd25-a3ae93a26c51",
        "colab": {
          "base_uri": "https://localhost:8080/",
          "height": 448
        }
      },
      "cell_type": "code",
      "source": [
        "X_expanded[100]"
      ],
      "execution_count": 17,
      "outputs": [
        {
          "output_type": "execute_result",
          "data": {
            "text/plain": [
              "array([[686, 438,   2,  -2,   7],\n",
              "       [686, 437,   0,  -2,  15],\n",
              "       [683, 439,  -6,   4,  28],\n",
              "       [676, 447, -14,  16,   7],\n",
              "       [668, 457, -16,  20,   9],\n",
              "       [658, 468, -20,  22,   7],\n",
              "       [653, 475, -10,  14,   0],\n",
              "       [648, 480, -10,  10,   9],\n",
              "       [645, 484,  -6,   8,   1],\n",
              "       [644, 486,  -2,   4,   8],\n",
              "       [643, 486,  -2,   0,   7],\n",
              "       [643, 487,   0,   2,  14],\n",
              "       [646, 485,   6,  -4,  22],\n",
              "       [658, 478,  24, -14,   6],\n",
              "       [676, 463,  36, -30,   8],\n",
              "       [693, 448,  34, -30,   9],\n",
              "       [717, 427,  48, -42,   5],\n",
              "       [733, 415,  32, -24,   8],\n",
              "       [743, 406,  20, -18,   6],\n",
              "       [747, 402,   8,  -8,   6],\n",
              "       [748, 401,   2,  -2,   8],\n",
              "       [749, 401,   2,   0,   7],\n",
              "       [750, 401,   2,   0,   9],\n",
              "       [750, 404,   0,   6,  20],\n",
              "       [747, 411,  -6,  14,   6]])"
            ]
          },
          "metadata": {
            "tags": []
          },
          "execution_count": 17
        }
      ]
    },
    {
      "metadata": {
        "id": "OVyeY93X_hE8",
        "colab_type": "code",
        "outputId": "265b5eae-c828-4422-810e-100e76e441ea",
        "colab": {
          "base_uri": "https://localhost:8080/",
          "height": 34
        }
      },
      "cell_type": "code",
      "source": [
        "X_expanded[100][0]"
      ],
      "execution_count": 18,
      "outputs": [
        {
          "output_type": "execute_result",
          "data": {
            "text/plain": [
              "array([686, 438,   2,  -2,   7])"
            ]
          },
          "metadata": {
            "tags": []
          },
          "execution_count": 18
        }
      ]
    },
    {
      "metadata": {
        "id": "o3_Jm3nl_hE_",
        "colab_type": "code",
        "outputId": "c5d0fd2a-347d-4a2c-a1df-e1dad725456c",
        "colab": {
          "base_uri": "https://localhost:8080/",
          "height": 34
        }
      },
      "cell_type": "code",
      "source": [
        "y_expanded[100]"
      ],
      "execution_count": 19,
      "outputs": [
        {
          "output_type": "execute_result",
          "data": {
            "text/plain": [
              "1"
            ]
          },
          "metadata": {
            "tags": []
          },
          "execution_count": 19
        }
      ]
    },
    {
      "metadata": {
        "id": "NpL7exC__hFB",
        "colab_type": "code",
        "outputId": "e21b3c06-6c32-4fec-c62c-1454dd8332df",
        "colab": {
          "base_uri": "https://localhost:8080/",
          "height": 34
        }
      },
      "cell_type": "code",
      "source": [
        "np.unique(y_expanded)"
      ],
      "execution_count": 20,
      "outputs": [
        {
          "output_type": "execute_result",
          "data": {
            "text/plain": [
              "array([0, 1, 2])"
            ]
          },
          "metadata": {
            "tags": []
          },
          "execution_count": 20
        }
      ]
    },
    {
      "metadata": {
        "id": "M-XPkMyW_hFD",
        "colab_type": "code",
        "colab": {}
      },
      "cell_type": "code",
      "source": [
        "assert np.array_equal(np.unique(y_expanded), [0, 1, 2])"
      ],
      "execution_count": 0,
      "outputs": []
    },
    {
      "metadata": {
        "id": "r9nB_r-ABpl7",
        "colab_type": "text"
      },
      "cell_type": "markdown",
      "source": [
        "## Training"
      ]
    },
    {
      "metadata": {
        "id": "0veLeDA6_hFH",
        "colab_type": "code",
        "colab": {}
      },
      "cell_type": "code",
      "source": [
        "import tensorflow as tf\n",
        "from tensorflow import keras\n",
        "from tensorflow.keras.layers import Dense, LSTM, GRU, SimpleRNN, Bidirectional, BatchNormalization\n",
        "from tensorflow.keras.models import Sequential, Model"
      ],
      "execution_count": 0,
      "outputs": []
    },
    {
      "metadata": {
        "id": "CM6on-uz_hFJ",
        "colab_type": "code",
        "colab": {
          "base_uri": "https://localhost:8080/",
          "height": 140
        },
        "outputId": "c58c167c-2b92-4e29-fcf5-981e52d4dcd6"
      },
      "cell_type": "code",
      "source": [
        "n_steps = len(X_expanded[0])\n",
        "n_features = len(X_expanded[0][0])\n",
        "n_buttons = 3\n",
        "\n",
        "model = Sequential()\n",
        "model.add(SimpleRNN(units=50, activation='tanh', input_shape=(n_steps, n_features), name=\"RNN_Input\", \n",
        "# model.add(GRU(units=50, activation='tanh', input_shape=(n_steps, n_features), name=\"RNN_Input\", \n",
        "# recurrent_dropout makes things slow              \n",
        "#               dropout=0.1, recurrent_dropout=0.1))\n",
        "                dropout=0.1))\n",
        "# model.add(GRU(units=50, activation='tanh', input_shape=(n_steps, n_features), name=\"RNN_Input\"))\n",
        "model.add(BatchNormalization())\n",
        "model.add(Dense(units=n_buttons, name='softmax', activation='softmax'))\n",
        "model.compile(optimizer='adam', loss='sparse_categorical_crossentropy', metrics=['accuracy'])"
      ],
      "execution_count": 23,
      "outputs": [
        {
          "output_type": "stream",
          "text": [
            "WARNING:tensorflow:From /usr/local/lib/python3.6/dist-packages/tensorflow/python/ops/resource_variable_ops.py:435: colocate_with (from tensorflow.python.framework.ops) is deprecated and will be removed in a future version.\n",
            "Instructions for updating:\n",
            "Colocations handled automatically by placer.\n",
            "WARNING:tensorflow:From /usr/local/lib/python3.6/dist-packages/tensorflow/python/keras/backend.py:4010: calling dropout (from tensorflow.python.ops.nn_ops) with keep_prob is deprecated and will be removed in a future version.\n",
            "Instructions for updating:\n",
            "Please use `rate` instead of `keep_prob`. Rate should be set to `rate = 1 - keep_prob`.\n"
          ],
          "name": "stdout"
        }
      ]
    },
    {
      "metadata": {
        "id": "oGO7UyA2_hFM",
        "colab_type": "code",
        "outputId": "7794e248-f296-46b9-8229-8aa858812b92",
        "colab": {
          "base_uri": "https://localhost:8080/",
          "height": 123
        }
      },
      "cell_type": "code",
      "source": [
        "%%time\n",
        "\n",
        "EPOCHS = 200\n",
        "BATCH_SIZE = 200\n",
        "\n",
        "history = model.fit(X_expanded, y_expanded, \n",
        "                    batch_size=BATCH_SIZE,\n",
        "                    epochs=EPOCHS, verbose=0, validation_split=0.2)"
      ],
      "execution_count": 24,
      "outputs": [
        {
          "output_type": "stream",
          "text": [
            "WARNING:tensorflow:From /usr/local/lib/python3.6/dist-packages/tensorflow/python/ops/math_ops.py:3066: to_int32 (from tensorflow.python.ops.math_ops) is deprecated and will be removed in a future version.\n",
            "Instructions for updating:\n",
            "Use tf.cast instead.\n",
            "CPU times: user 17.8 s, sys: 2.28 s, total: 20.1 s\n",
            "Wall time: 14.2 s\n"
          ],
          "name": "stdout"
        }
      ]
    },
    {
      "metadata": {
        "id": "po7tURch_hFP",
        "colab_type": "code",
        "outputId": "105581c9-fff6-49b2-b6ab-690f2d48b924",
        "colab": {
          "base_uri": "https://localhost:8080/",
          "height": 51
        }
      },
      "cell_type": "code",
      "source": [
        "loss, accuracy = model.evaluate([X_expanded], y_expanded, batch_size=BATCH_SIZE)\n",
        "accuracy"
      ],
      "execution_count": 25,
      "outputs": [
        {
          "output_type": "stream",
          "text": [
            "472/472 [==============================] - 0s 107us/sample - loss: 0.6857 - acc: 0.7542\n"
          ],
          "name": "stdout"
        },
        {
          "output_type": "execute_result",
          "data": {
            "text/plain": [
              "0.7542373"
            ]
          },
          "metadata": {
            "tags": []
          },
          "execution_count": 25
        }
      ]
    },
    {
      "metadata": {
        "id": "uqMFRTwp_hFR",
        "colab_type": "code",
        "outputId": "59d3cfa0-30e6-461b-e9a0-4c6f7a26611c",
        "colab": {
          "base_uri": "https://localhost:8080/",
          "height": 300
        }
      },
      "cell_type": "code",
      "source": [
        "%matplotlib inline\n",
        "\n",
        "import matplotlib.pyplot as plt\n",
        "\n",
        "# plt.yscale('log')\n",
        "plt.ylabel('loss')\n",
        "plt.xlabel('epochs')\n",
        "\n",
        "plt.plot(history.history['loss'])\n",
        "plt.plot(history.history['val_loss'])\n",
        "\n",
        "plt.legend(['loss', 'val_loss'])"
      ],
      "execution_count": 26,
      "outputs": [
        {
          "output_type": "execute_result",
          "data": {
            "text/plain": [
              "<matplotlib.legend.Legend at 0x7f90dc7eaa90>"
            ]
          },
          "metadata": {
            "tags": []
          },
          "execution_count": 26
        },
        {
          "output_type": "display_data",
          "data": {
            "image/png": "[encoded data removed]",
            "text/plain": [
              "<Figure size 432x288 with 1 Axes>"
            ]
          },
          "metadata": {
            "tags": []
          }
        }
      ]
    },
    {
      "metadata": {
        "id": "CS1Gynas_hFT",
        "colab_type": "code",
        "outputId": "d2a8f036-b479-4796-fc1f-4744c6b71cc1",
        "colab": {
          "base_uri": "https://localhost:8080/",
          "height": 300
        }
      },
      "cell_type": "code",
      "source": [
        "plt.ylabel('accuracy')\n",
        "plt.xlabel('epochs')\n",
        "\n",
        "# TF 2.0\n",
        "# plt.plot(history.history['accuracy'])\n",
        "# plt.plot(history.history['val_accuracy'])\n",
        "plt.plot(history.history['acc'])\n",
        "plt.plot(history.history['val_acc'])\n",
        "\n",
        "plt.legend(['accuracy', 'val_accuracy'])"
      ],
      "execution_count": 27,
      "outputs": [
        {
          "output_type": "execute_result",
          "data": {
            "text/plain": [
              "<matplotlib.legend.Legend at 0x7f90dc7284a8>"
            ]
          },
          "metadata": {
            "tags": []
          },
          "execution_count": 27
        },
        {
          "output_type": "display_data",
          "data": {
            "image/png": "[encoded data removed]",
            "text/plain": [
              "<Figure size 432x288 with 1 Axes>"
            ]
          },
          "metadata": {
            "tags": []
          }
        }
      ]
    },
    {
      "metadata": {
        "id": "h7ZO4M2I_hFV",
        "colab_type": "code",
        "outputId": "f7ed5c9f-96f8-4d16-b16f-8c87d489179b",
        "colab": {
          "base_uri": "https://localhost:8080/",
          "height": 34
        }
      },
      "cell_type": "code",
      "source": [
        "model.predict([[X_expanded[0]]])"
      ],
      "execution_count": 28,
      "outputs": [
        {
          "output_type": "execute_result",
          "data": {
            "text/plain": [
              "array([[0.60764664, 0.1283687 , 0.26398465]], dtype=float32)"
            ]
          },
          "metadata": {
            "tags": []
          },
          "execution_count": 28
        }
      ]
    },
    {
      "metadata": {
        "id": "VEGNcvSv_hFX",
        "colab_type": "code",
        "outputId": "8b150b13-c662-4837-c3fb-199f885f569c",
        "colab": {
          "base_uri": "https://localhost:8080/",
          "height": 34
        }
      },
      "cell_type": "code",
      "source": [
        "model.predict([[X_expanded[0]]]).argmax()"
      ],
      "execution_count": 29,
      "outputs": [
        {
          "output_type": "execute_result",
          "data": {
            "text/plain": [
              "0"
            ]
          },
          "metadata": {
            "tags": []
          },
          "execution_count": 29
        }
      ]
    },
    {
      "metadata": {
        "id": "RpdLq4RT_hFa",
        "colab_type": "code",
        "outputId": "57d1f40f-25fa-467f-85bb-e224079d9f98",
        "colab": {
          "base_uri": "https://localhost:8080/",
          "height": 34
        }
      },
      "cell_type": "code",
      "source": [
        "y_expanded[0]"
      ],
      "execution_count": 30,
      "outputs": [
        {
          "output_type": "execute_result",
          "data": {
            "text/plain": [
              "0"
            ]
          },
          "metadata": {
            "tags": []
          },
          "execution_count": 30
        }
      ]
    },
    {
      "metadata": {
        "id": "--ZGTfeohmS_",
        "colab_type": "code",
        "colab": {}
      },
      "cell_type": "code",
      "source": [
        "y_pred = model.predict([X_expanded]).argmax(axis=1)"
      ],
      "execution_count": 0,
      "outputs": []
    },
    {
      "metadata": {
        "id": "iCFPYjo-ga6m",
        "colab_type": "code",
        "outputId": "6f9d4fa8-8388-4c05-aec8-d939a08fc3a4",
        "colab": {
          "base_uri": "https://localhost:8080/",
          "height": 182
        }
      },
      "cell_type": "code",
      "source": [
        "# TF 2.0\n",
        "cm = tf.math.confusion_matrix(labels=y_expanded, predictions=y_pred)\n",
        "cm"
      ],
      "execution_count": 34,
      "outputs": [
        {
          "output_type": "error",
          "ename": "AttributeError",
          "evalue": "ignored",
          "traceback": [
            "\u001b[0;31m---------------------------------------------------------------------------\u001b[0m",
            "\u001b[0;31mAttributeError\u001b[0m                            Traceback (most recent call last)",
            "\u001b[0;32m<ipython-input-34-74e5463c2745>\u001b[0m in \u001b[0;36m<module>\u001b[0;34m()\u001b[0m\n\u001b[1;32m      1\u001b[0m \u001b[0mcm\u001b[0m \u001b[0;34m=\u001b[0m \u001b[0mtf\u001b[0m\u001b[0;34m.\u001b[0m\u001b[0mmath\u001b[0m\u001b[0;34m.\u001b[0m\u001b[0mconfusion_matrix\u001b[0m\u001b[0;34m(\u001b[0m\u001b[0mlabels\u001b[0m\u001b[0;34m=\u001b[0m\u001b[0my_expanded\u001b[0m\u001b[0;34m,\u001b[0m \u001b[0mpredictions\u001b[0m\u001b[0;34m=\u001b[0m\u001b[0my_pred\u001b[0m\u001b[0;34m)\u001b[0m\u001b[0;34m\u001b[0m\u001b[0;34m\u001b[0m\u001b[0m\n\u001b[0;32m----> 2\u001b[0;31m \u001b[0mcm\u001b[0m\u001b[0;34m.\u001b[0m\u001b[0mvalue\u001b[0m\u001b[0;34m\u001b[0m\u001b[0;34m\u001b[0m\u001b[0m\n\u001b[0m",
            "\u001b[0;31mAttributeError\u001b[0m: 'Tensor' object has no attribute 'value'"
          ]
        }
      ]
    },
    {
      "metadata": {
        "id": "qwV7StyWjYVa",
        "colab_type": "code",
        "colab": {}
      },
      "cell_type": "code",
      "source": [
        "# import seaborn as sns\n",
        "\n",
        "# classes = [\"Left Button\", \"Middle Button\", \"Right Button\"]\n",
        "\n",
        "# sns.heatmap(cm, annot=True, fmt=\"d\", xticklabels=classes, yticklabels=classes)"
      ],
      "execution_count": 0,
      "outputs": []
    },
    {
      "metadata": {
        "id": "Rv2Yo1SsBvYn",
        "colab_type": "text"
      },
      "cell_type": "markdown",
      "source": [
        "## Convert Model into tfjs format"
      ]
    },
    {
      "metadata": {
        "id": "crq3LXdj_hFc",
        "colab_type": "code",
        "colab": {}
      },
      "cell_type": "code",
      "source": [
        "model.save('ux.hd5')"
      ],
      "execution_count": 0,
      "outputs": []
    },
    {
      "metadata": {
        "id": "_sRLDfTDB8GS",
        "colab_type": "code",
        "outputId": "3980ed20-b342-4f68-fb07-3d67fcc23174",
        "colab": {
          "base_uri": "https://localhost:8080/",
          "height": 69
        }
      },
      "cell_type": "code",
      "source": [
        "!ls -l"
      ],
      "execution_count": 37,
      "outputs": [
        {
          "output_type": "stream",
          "text": [
            "total 72\n",
            "drwxr-xr-x 1 root root  4096 Apr  4 20:20 sample_data\n",
            "-rw-r--r-- 1 root root 67760 Apr 12 08:33 ux.hd5\n"
          ],
          "name": "stdout"
        }
      ]
    },
    {
      "metadata": {
        "id": "Xbv45tMgCIkn",
        "colab_type": "code",
        "colab": {
          "base_uri": "https://localhost:8080/",
          "height": 172
        },
        "outputId": "d7d0a46f-e1d0-4f2e-cf28-272e294dd278"
      },
      "cell_type": "code",
      "source": [
        "!pip install -q tensorflowjs"
      ],
      "execution_count": 38,
      "outputs": [
        {
          "output_type": "stream",
          "text": [
            "\u001b[K    100% |████████████████████████████████| 81kB 12.6MB/s \n",
            "\u001b[K    100% |████████████████████████████████| 13.9MB 1.8MB/s \n",
            "\u001b[K    100% |████████████████████████████████| 86.2MB 251kB/s \n",
            "\u001b[K    100% |████████████████████████████████| 3.0MB 7.1MB/s \n",
            "\u001b[K    100% |████████████████████████████████| 61kB 21.0MB/s \n",
            "\u001b[K    100% |████████████████████████████████| 358kB 19.2MB/s \n",
            "\u001b[31mfeaturetools 0.4.1 has requirement pandas>=0.23.0, but you'll have pandas 0.22.0 which is incompatible.\u001b[0m\n",
            "\u001b[31mdatascience 0.10.6 has requirement folium==0.2.1, but you'll have folium 0.8.3 which is incompatible.\u001b[0m\n",
            "\u001b[31malbumentations 0.1.12 has requirement imgaug<0.2.7,>=0.2.5, but you'll have imgaug 0.2.8 which is incompatible.\u001b[0m\n",
            "\u001b[?25h"
          ],
          "name": "stdout"
        }
      ]
    },
    {
      "metadata": {
        "id": "bqztV867_hFd",
        "colab_type": "code",
        "colab": {}
      },
      "cell_type": "code",
      "source": [
        "!tensorflowjs_converter --input_format keras ux.hd5 tfjs"
      ],
      "execution_count": 0,
      "outputs": []
    },
    {
      "metadata": {
        "id": "2GH6PYWgCDYc",
        "colab_type": "code",
        "outputId": "bc5fe350-6c44-4199-9a50-22a67352c291",
        "colab": {
          "base_uri": "https://localhost:8080/",
          "height": 69
        }
      },
      "cell_type": "code",
      "source": [
        "!ls -l tfjs"
      ],
      "execution_count": 40,
      "outputs": [
        {
          "output_type": "stream",
          "text": [
            "total 20\n",
            "-rw-r--r-- 1 root root 12612 Apr 12 08:35 group1-shard1of1.bin\n",
            "-rw-r--r-- 1 root root  3313 Apr 12 08:35 model.json\n"
          ],
          "name": "stdout"
        }
      ]
    },
    {
      "metadata": {
        "id": "Xd5GPZiUkpTD",
        "colab_type": "text"
      },
      "cell_type": "markdown",
      "source": [
        "Download using _Files_ menu on the left"
      ]
    },
    {
      "metadata": {
        "id": "lsd2Kj8ECJu3",
        "colab_type": "code",
        "colab": {}
      },
      "cell_type": "code",
      "source": [
        ""
      ],
      "execution_count": 0,
      "outputs": []
    }
  ]
}