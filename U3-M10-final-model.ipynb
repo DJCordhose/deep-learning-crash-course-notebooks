{
  "nbformat": 4,
  "nbformat_minor": 0,
  "metadata": {
    "colab": {
      "name": "U3-M10-final-model.ipynb",
      "provenance": [],
      "include_colab_link": true
    },
    "kernelspec": {
      "display_name": "Python 3",
      "language": "python",
      "name": "python3"
    },
    "accelerator": "GPU"
  },
  "cells": [
    {
      "cell_type": "markdown",
      "metadata": {
        "id": "view-in-github",
        "colab_type": "text"
      },
      "source": [
        "<a href=\"https://colab.research.google.com/github/DJCordhose/deep-learning-crash-course-notebooks/blob/master/U3-M10-final-model.ipynb\" target=\"_parent\"><img src=\"https://colab.research.google.com/assets/colab-badge.svg\" alt=\"Open In Colab\"/></a>"
      ]
    },
    {
      "cell_type": "markdown",
      "metadata": {
        "id": "UVO0p5dnEGks",
        "colab_type": "text"
      },
      "source": [
        "# Our final model"
      ]
    },
    {
      "cell_type": "code",
      "metadata": {
        "id": "BgRmy8QPEGkz",
        "colab_type": "code",
        "outputId": "b6de2ab8-513f-4378-9aca-039cfae31d44",
        "colab": {
          "base_uri": "https://localhost:8080/",
          "height": 35
        }
      },
      "source": [
        "%matplotlib inline\n",
        "%pylab inline\n",
        "import matplotlib.pyplot as plt"
      ],
      "execution_count": 1,
      "outputs": [
        {
          "output_type": "stream",
          "text": [
            "Populating the interactive namespace from numpy and matplotlib\n"
          ],
          "name": "stdout"
        }
      ]
    },
    {
      "cell_type": "code",
      "metadata": {
        "id": "VwfByNsHEGk5",
        "colab_type": "code",
        "outputId": "7ac60fa4-2a85-47b0-de58-2adbda93e559",
        "colab": {
          "base_uri": "https://localhost:8080/",
          "height": 35
        }
      },
      "source": [
        "import pandas as pd\n",
        "print(pd.__version__)"
      ],
      "execution_count": 2,
      "outputs": [
        {
          "output_type": "stream",
          "text": [
            "0.25.3\n"
          ],
          "name": "stdout"
        }
      ]
    },
    {
      "cell_type": "code",
      "metadata": {
        "id": "PrM2tBVMEGk-",
        "colab_type": "code",
        "outputId": "c1fbddbb-df26-4360-dabf-b4213ed551fa",
        "colab": {
          "base_uri": "https://localhost:8080/",
          "height": 35
        }
      },
      "source": [
        "try:\n",
        "  # %tensorflow_version only exists in Colab.\n",
        "  %tensorflow_version 1.x\n",
        "except Exception:\n",
        "  pass\n",
        "\n",
        "import tensorflow as tf\n",
        "print(tf.__version__)"
      ],
      "execution_count": 3,
      "outputs": [
        {
          "output_type": "stream",
          "text": [
            "1.15.0\n"
          ],
          "name": "stdout"
        }
      ]
    },
    {
      "cell_type": "code",
      "metadata": {
        "id": "GVRfbgW2EGlB",
        "colab_type": "code",
        "outputId": "7ed1ffdf-e22f-4849-fe94-8af9a5a675e3",
        "colab": {
          "base_uri": "https://localhost:8080/",
          "height": 87
        }
      },
      "source": [
        "# let's see what compute devices we have available, hopefully a GPU \n",
        "sess = tf.Session()\n",
        "devices = sess.list_devices()\n",
        "for d in devices:\n",
        "    print(d.name)"
      ],
      "execution_count": 4,
      "outputs": [
        {
          "output_type": "stream",
          "text": [
            "/job:localhost/replica:0/task:0/device:CPU:0\n",
            "/job:localhost/replica:0/task:0/device:XLA_CPU:0\n",
            "/job:localhost/replica:0/task:0/device:XLA_GPU:0\n",
            "/job:localhost/replica:0/task:0/device:GPU:0\n"
          ],
          "name": "stdout"
        }
      ]
    },
    {
      "cell_type": "code",
      "metadata": {
        "id": "8BxAyvYeEGlF",
        "colab_type": "code",
        "outputId": "c93a79b6-9dd4-4c10-d27c-473c45a53e21",
        "colab": {
          "base_uri": "https://localhost:8080/",
          "height": 35
        }
      },
      "source": [
        "# a small sanity check, does tf seem to work ok?\n",
        "hello = tf.constant('Hello TF!')\n",
        "print(sess.run(hello))"
      ],
      "execution_count": 5,
      "outputs": [
        {
          "output_type": "stream",
          "text": [
            "b'Hello TF!'\n"
          ],
          "name": "stdout"
        }
      ]
    },
    {
      "cell_type": "code",
      "metadata": {
        "id": "ccv-63JREGlK",
        "colab_type": "code",
        "outputId": "6d2f3ed0-fee5-4ad3-a896-56ea3c5fe11c",
        "colab": {
          "base_uri": "https://localhost:8080/",
          "height": 35
        }
      },
      "source": [
        "from tensorflow import keras\n",
        "print(keras.__version__)"
      ],
      "execution_count": 6,
      "outputs": [
        {
          "output_type": "stream",
          "text": [
            "2.2.4-tf\n"
          ],
          "name": "stdout"
        }
      ]
    },
    {
      "cell_type": "markdown",
      "metadata": {
        "id": "YKwki1IaEGlN",
        "colab_type": "text"
      },
      "source": [
        "## Loading and preparing our data set for classification"
      ]
    },
    {
      "cell_type": "code",
      "metadata": {
        "id": "K7dNSqEOEGlO",
        "colab_type": "code",
        "outputId": "9638ae3d-f67f-4fb9-e1eb-b90f2732a19d",
        "colab": {
          "base_uri": "https://localhost:8080/",
          "height": 70
        }
      },
      "source": [
        "!curl -O https://raw.githubusercontent.com/DJCordhose/deep-learning-crash-course-notebooks/master/data/insurance-customers-1500.csv"
      ],
      "execution_count": 7,
      "outputs": [
        {
          "output_type": "stream",
          "text": [
            "  % Total    % Received % Xferd  Average Speed   Time    Time     Time  Current\n",
            "                                 Dload  Upload   Total   Spent    Left  Speed\n",
            "\r  0     0    0     0    0     0      0      0 --:--:-- --:--:-- --:--:--     0\r100 26783  100 26783    0     0   512k      0 --:--:-- --:--:-- --:--:--  512k\n"
          ],
          "name": "stdout"
        }
      ]
    },
    {
      "cell_type": "code",
      "metadata": {
        "id": "Nk250kDKEGlS",
        "colab_type": "code",
        "colab": {
          "base_uri": "https://localhost:8080/",
          "height": 72
        },
        "outputId": "22c60656-3dc5-4cc2-a176-3ad65fbdfefe"
      },
      "source": [
        "df = pd.read_csv('./insurance-customers-1500.csv', sep=';')\n",
        "y=df['group']\n",
        "df.drop('group', axis='columns', inplace=True)\n",
        "X = df.as_matrix()"
      ],
      "execution_count": 8,
      "outputs": [
        {
          "output_type": "stream",
          "text": [
            "/usr/local/lib/python3.6/dist-packages/ipykernel_launcher.py:4: FutureWarning: Method .as_matrix will be removed in a future version. Use .values instead.\n",
            "  after removing the cwd from sys.path.\n"
          ],
          "name": "stderr"
        }
      ]
    },
    {
      "cell_type": "code",
      "metadata": {
        "id": "uwlx0rhIEGlV",
        "colab_type": "code",
        "outputId": "806fa0f9-762e-4429-c524-4e83a4c08ca9",
        "colab": {
          "base_uri": "https://localhost:8080/",
          "height": 203
        }
      },
      "source": [
        "df.head()"
      ],
      "execution_count": 9,
      "outputs": [
        {
          "output_type": "execute_result",
          "data": {
            "text/html": [
              "<div>\n",
              "<style scoped>\n",
              "    .dataframe tbody tr th:only-of-type {\n",
              "        vertical-align: middle;\n",
              "    }\n",
              "\n",
              "    .dataframe tbody tr th {\n",
              "        vertical-align: top;\n",
              "    }\n",
              "\n",
              "    .dataframe thead th {\n",
              "        text-align: right;\n",
              "    }\n",
              "</style>\n",
              "<table border=\"1\" class=\"dataframe\">\n",
              "  <thead>\n",
              "    <tr style=\"text-align: right;\">\n",
              "      <th></th>\n",
              "      <th>speed</th>\n",
              "      <th>age</th>\n",
              "      <th>miles</th>\n",
              "    </tr>\n",
              "  </thead>\n",
              "  <tbody>\n",
              "    <tr>\n",
              "      <th>0</th>\n",
              "      <td>98.0</td>\n",
              "      <td>44.0</td>\n",
              "      <td>25.0</td>\n",
              "    </tr>\n",
              "    <tr>\n",
              "      <th>1</th>\n",
              "      <td>118.0</td>\n",
              "      <td>54.0</td>\n",
              "      <td>24.0</td>\n",
              "    </tr>\n",
              "    <tr>\n",
              "      <th>2</th>\n",
              "      <td>111.0</td>\n",
              "      <td>26.0</td>\n",
              "      <td>34.0</td>\n",
              "    </tr>\n",
              "    <tr>\n",
              "      <th>3</th>\n",
              "      <td>97.0</td>\n",
              "      <td>25.0</td>\n",
              "      <td>10.0</td>\n",
              "    </tr>\n",
              "    <tr>\n",
              "      <th>4</th>\n",
              "      <td>114.0</td>\n",
              "      <td>38.0</td>\n",
              "      <td>22.0</td>\n",
              "    </tr>\n",
              "  </tbody>\n",
              "</table>\n",
              "</div>"
            ],
            "text/plain": [
              "   speed   age  miles\n",
              "0   98.0  44.0   25.0\n",
              "1  118.0  54.0   24.0\n",
              "2  111.0  26.0   34.0\n",
              "3   97.0  25.0   10.0\n",
              "4  114.0  38.0   22.0"
            ]
          },
          "metadata": {
            "tags": []
          },
          "execution_count": 9
        }
      ]
    },
    {
      "cell_type": "code",
      "metadata": {
        "id": "5x6mzzwzEGla",
        "colab_type": "code",
        "outputId": "8c1277bd-e904-436f-dd7e-d86d3f8c8ab0",
        "colab": {
          "base_uri": "https://localhost:8080/",
          "height": 295
        }
      },
      "source": [
        "df.describe()"
      ],
      "execution_count": 10,
      "outputs": [
        {
          "output_type": "execute_result",
          "data": {
            "text/html": [
              "<div>\n",
              "<style scoped>\n",
              "    .dataframe tbody tr th:only-of-type {\n",
              "        vertical-align: middle;\n",
              "    }\n",
              "\n",
              "    .dataframe tbody tr th {\n",
              "        vertical-align: top;\n",
              "    }\n",
              "\n",
              "    .dataframe thead th {\n",
              "        text-align: right;\n",
              "    }\n",
              "</style>\n",
              "<table border=\"1\" class=\"dataframe\">\n",
              "  <thead>\n",
              "    <tr style=\"text-align: right;\">\n",
              "      <th></th>\n",
              "      <th>speed</th>\n",
              "      <th>age</th>\n",
              "      <th>miles</th>\n",
              "    </tr>\n",
              "  </thead>\n",
              "  <tbody>\n",
              "    <tr>\n",
              "      <th>count</th>\n",
              "      <td>1500.000000</td>\n",
              "      <td>1500.000000</td>\n",
              "      <td>1500.000000</td>\n",
              "    </tr>\n",
              "    <tr>\n",
              "      <th>mean</th>\n",
              "      <td>122.492667</td>\n",
              "      <td>44.980667</td>\n",
              "      <td>30.434000</td>\n",
              "    </tr>\n",
              "    <tr>\n",
              "      <th>std</th>\n",
              "      <td>17.604333</td>\n",
              "      <td>17.130400</td>\n",
              "      <td>15.250815</td>\n",
              "    </tr>\n",
              "    <tr>\n",
              "      <th>min</th>\n",
              "      <td>68.000000</td>\n",
              "      <td>16.000000</td>\n",
              "      <td>1.000000</td>\n",
              "    </tr>\n",
              "    <tr>\n",
              "      <th>25%</th>\n",
              "      <td>108.000000</td>\n",
              "      <td>32.000000</td>\n",
              "      <td>18.000000</td>\n",
              "    </tr>\n",
              "    <tr>\n",
              "      <th>50%</th>\n",
              "      <td>120.000000</td>\n",
              "      <td>42.000000</td>\n",
              "      <td>29.000000</td>\n",
              "    </tr>\n",
              "    <tr>\n",
              "      <th>75%</th>\n",
              "      <td>137.000000</td>\n",
              "      <td>55.000000</td>\n",
              "      <td>42.000000</td>\n",
              "    </tr>\n",
              "    <tr>\n",
              "      <th>max</th>\n",
              "      <td>166.000000</td>\n",
              "      <td>100.000000</td>\n",
              "      <td>84.000000</td>\n",
              "    </tr>\n",
              "  </tbody>\n",
              "</table>\n",
              "</div>"
            ],
            "text/plain": [
              "             speed          age        miles\n",
              "count  1500.000000  1500.000000  1500.000000\n",
              "mean    122.492667    44.980667    30.434000\n",
              "std      17.604333    17.130400    15.250815\n",
              "min      68.000000    16.000000     1.000000\n",
              "25%     108.000000    32.000000    18.000000\n",
              "50%     120.000000    42.000000    29.000000\n",
              "75%     137.000000    55.000000    42.000000\n",
              "max     166.000000   100.000000    84.000000"
            ]
          },
          "metadata": {
            "tags": []
          },
          "execution_count": 10
        }
      ]
    },
    {
      "cell_type": "code",
      "metadata": {
        "id": "aYtgkKOQEGlf",
        "colab_type": "code",
        "colab": {}
      },
      "source": [
        "from sklearn.model_selection import train_test_split"
      ],
      "execution_count": 0,
      "outputs": []
    },
    {
      "cell_type": "code",
      "metadata": {
        "id": "KBf3NAexEGlh",
        "colab_type": "code",
        "colab": {}
      },
      "source": [
        "X_train, X_test, y_train, y_test = train_test_split(X, y, test_size=0.4, random_state=42, stratify=y)"
      ],
      "execution_count": 0,
      "outputs": []
    },
    {
      "cell_type": "code",
      "metadata": {
        "id": "WitUAVOoEGlk",
        "colab_type": "code",
        "outputId": "53c81546-6223-4884-a046-0972b176a037",
        "colab": {
          "base_uri": "https://localhost:8080/",
          "height": 35
        }
      },
      "source": [
        "X_train.shape, y_train.shape, X_test.shape, y_test.shape"
      ],
      "execution_count": 13,
      "outputs": [
        {
          "output_type": "execute_result",
          "data": {
            "text/plain": [
              "((900, 3), (900,), (600, 3), (600,))"
            ]
          },
          "metadata": {
            "tags": []
          },
          "execution_count": 13
        }
      ]
    },
    {
      "cell_type": "code",
      "metadata": {
        "id": "BfbyWr1VEGls",
        "colab_type": "code",
        "colab": {}
      },
      "source": [
        "# ignore this, it is just technical code to plot decision boundaries\n",
        "# Adapted from:\n",
        "# http://scikit-learn.org/stable/auto_examples/neighbors/plot_classification.html\n",
        "# http://jponttuset.cat/xkcd-deep-learning/\n",
        "\n",
        "def plot_history(history, samples=100, init_phase_samples=None, plot_line=False):\n",
        "    epochs = history.params['epochs']\n",
        "    \n",
        "    acc = history.history['acc']\n",
        "    val_acc = history.history['val_acc']\n",
        "    loss = history.history['loss']\n",
        "    val_loss = history.history['val_loss']\n",
        "\n",
        "    every_sample =  int(epochs / samples)\n",
        "    acc = pd.DataFrame(acc).iloc[::every_sample, :]\n",
        "    val_acc = pd.DataFrame(val_acc).iloc[::every_sample, :]\n",
        "    loss = pd.DataFrame(loss).iloc[::every_sample, :]\n",
        "    val_loss = pd.DataFrame(val_loss).iloc[::every_sample, :]\n",
        "\n",
        "    if init_phase_samples:\n",
        "        acc = acc.loc[init_phase_samples:]\n",
        "        val_acc = val_acc.loc[init_phase_samples:]\n",
        "        loss = loss.loc[init_phase_samples:]\n",
        "        val_loss = val_loss.loc[init_phase_samples:]\n",
        "    \n",
        "    fig, ax = plt.subplots(nrows=2, figsize=(20,10))\n",
        "\n",
        "    ax[0].plot(acc, 'bo', label='Training acc')\n",
        "    ax[0].plot(val_acc, 'b', label='Validation acc')\n",
        "    ax[0].set_title('Training and validation accuracy')\n",
        "    ax[0].legend()\n",
        "    \n",
        "    if plot_line:\n",
        "        x, y, _ = linear_regression(acc)\n",
        "        ax[0].plot(x, y, 'bo', color='red')\n",
        "        x, y, _ = linear_regression(val_acc)\n",
        "        ax[0].plot(x, y, 'b', color='red')\n",
        "    \n",
        "    ax[1].plot(loss, 'bo', label='Training loss')\n",
        "    ax[1].plot(val_loss, 'b', label='Validation loss')\n",
        "    ax[1].set_title('Training and validation loss')\n",
        "    ax[1].legend()\n",
        "    \n",
        "    if plot_line:\n",
        "        x, y, _ = linear_regression(loss)\n",
        "        ax[1].plot(x, y, 'bo', color='red')\n",
        "        x, y, _ = linear_regression(val_loss)\n",
        "        ax[1].plot(x, y, 'b', color='red')\n",
        "    \n",
        "from sklearn import linear_model\n",
        "\n",
        "def linear_regression(data):\n",
        "    x = np.array(data.index).reshape(-1, 1)\n",
        "    y = data.values.reshape(-1, 1)\n",
        "\n",
        "    regr = linear_model.LinearRegression()\n",
        "    regr.fit(x, y)\n",
        "    y_pred = regr.predict(x)\n",
        "    return x, y_pred, regr.coef_"
      ],
      "execution_count": 0,
      "outputs": []
    },
    {
      "cell_type": "markdown",
      "metadata": {
        "id": "xx8hmXoHEGlx",
        "colab_type": "text"
      },
      "source": [
        "## Almost all real-life scenarios have many more than 2 inputs\n",
        "* With more than 2 input features plotting decision boundaries does not make much sense any more\n",
        "* From now on we work with 3 features and only rely on accuracy measures"
      ]
    },
    {
      "cell_type": "code",
      "metadata": {
        "id": "oynT3LNDEGlx",
        "colab_type": "code",
        "outputId": "d08ff97e-8e0c-4b37-8446-2ad1a4c7cb18",
        "colab": {
          "base_uri": "https://localhost:8080/",
          "height": 583
        }
      },
      "source": [
        "from tensorflow.keras.layers import Dense, Dropout, BatchNormalization, Activation\n",
        "\n",
        "num_categories = 3\n",
        "dropout = 0.6\n",
        "model = keras.Sequential()\n",
        "\n",
        "model.add(Dense(100, name='hidden1', input_dim=3))\n",
        "model.add(BatchNormalization())\n",
        "model.add(Activation('relu'))\n",
        "model.add(Dropout(dropout))\n",
        "\n",
        "model.add(Dense(100, name='hidden2'))\n",
        "model.add(BatchNormalization())\n",
        "model.add(Activation('relu'))\n",
        "model.add(Dropout(dropout))\n",
        "\n",
        "model.add(Dense(num_categories, name='softmax', activation='softmax'))\n",
        "\n",
        "model.compile(loss='sparse_categorical_crossentropy',\n",
        "             optimizer='adam',\n",
        "             metrics=['accuracy'])\n",
        "model.summary()"
      ],
      "execution_count": 15,
      "outputs": [
        {
          "output_type": "stream",
          "text": [
            "WARNING:tensorflow:From /tensorflow-1.15.0/python3.6/tensorflow_core/python/ops/resource_variable_ops.py:1630: calling BaseResourceVariable.__init__ (from tensorflow.python.ops.resource_variable_ops) with constraint is deprecated and will be removed in a future version.\n",
            "Instructions for updating:\n",
            "If using Keras pass *_constraint arguments to layers.\n",
            "WARNING:tensorflow:Large dropout rate: 0.6 (>0.5). In TensorFlow 2.x, dropout() uses dropout rate instead of keep_prob. Please ensure that this is intended.\n",
            "WARNING:tensorflow:Large dropout rate: 0.6 (>0.5). In TensorFlow 2.x, dropout() uses dropout rate instead of keep_prob. Please ensure that this is intended.\n",
            "Model: \"sequential\"\n",
            "_________________________________________________________________\n",
            "Layer (type)                 Output Shape              Param #   \n",
            "=================================================================\n",
            "hidden1 (Dense)              (None, 100)               400       \n",
            "_________________________________________________________________\n",
            "batch_normalization (BatchNo (None, 100)               400       \n",
            "_________________________________________________________________\n",
            "activation (Activation)      (None, 100)               0         \n",
            "_________________________________________________________________\n",
            "dropout (Dropout)            (None, 100)               0         \n",
            "_________________________________________________________________\n",
            "hidden2 (Dense)              (None, 100)               10100     \n",
            "_________________________________________________________________\n",
            "batch_normalization_1 (Batch (None, 100)               400       \n",
            "_________________________________________________________________\n",
            "activation_1 (Activation)    (None, 100)               0         \n",
            "_________________________________________________________________\n",
            "dropout_1 (Dropout)          (None, 100)               0         \n",
            "_________________________________________________________________\n",
            "softmax (Dense)              (None, 3)                 303       \n",
            "=================================================================\n",
            "Total params: 11,603\n",
            "Trainable params: 11,203\n",
            "Non-trainable params: 400\n",
            "_________________________________________________________________\n"
          ],
          "name": "stdout"
        }
      ]
    },
    {
      "cell_type": "markdown",
      "metadata": {
        "id": "7rDoO3UVEGl1",
        "colab_type": "text"
      },
      "source": [
        "### We also limit the number of epochs further to 2000 (because we have seen that after that nothing good is going to happen)"
      ]
    },
    {
      "cell_type": "code",
      "metadata": {
        "id": "Hz3RRQQAEGl2",
        "colab_type": "code",
        "outputId": "7acafacb-21d5-494e-8379-9f7aa5532d57",
        "colab": {
          "base_uri": "https://localhost:8080/",
          "height": 52
        }
      },
      "source": [
        "BATCH_SIZE=1000\n",
        "EPOCHS = 2000\n",
        "\n",
        "%time history = model.fit(X_train, y_train, epochs=EPOCHS, batch_size=BATCH_SIZE, validation_split=0.2, verbose=0)"
      ],
      "execution_count": 16,
      "outputs": [
        {
          "output_type": "stream",
          "text": [
            "CPU times: user 22.9 s, sys: 1.6 s, total: 24.5 s\n",
            "Wall time: 17.7 s\n"
          ],
          "name": "stdout"
        }
      ]
    },
    {
      "cell_type": "code",
      "metadata": {
        "id": "mTw4tcllEGmA",
        "colab_type": "code",
        "outputId": "5579aa56-3f29-4d56-a72b-85b691e2edfb",
        "colab": {
          "base_uri": "https://localhost:8080/",
          "height": 52
        }
      },
      "source": [
        "train_loss, train_accuracy = model.evaluate(X_train, y_train, batch_size=BATCH_SIZE)\n",
        "train_loss, train_accuracy"
      ],
      "execution_count": 17,
      "outputs": [
        {
          "output_type": "stream",
          "text": [
            "\r900/900 [==============================] - 0s 3us/sample - loss: 0.5011 - acc: 0.8067\n"
          ],
          "name": "stdout"
        },
        {
          "output_type": "execute_result",
          "data": {
            "text/plain": [
              "(0.5011265873908997, 0.8066667)"
            ]
          },
          "metadata": {
            "tags": []
          },
          "execution_count": 17
        }
      ]
    },
    {
      "cell_type": "code",
      "metadata": {
        "id": "Dpk5C_k5EGmF",
        "colab_type": "code",
        "outputId": "d971e629-6358-489c-dc70-25aed6ffade4",
        "colab": {
          "base_uri": "https://localhost:8080/",
          "height": 52
        }
      },
      "source": [
        "test_loss, test_accuracy = model.evaluate(X_test, y_test, batch_size=BATCH_SIZE)\n",
        "test_loss, test_accuracy"
      ],
      "execution_count": 18,
      "outputs": [
        {
          "output_type": "stream",
          "text": [
            "\r600/600 [==============================] - 0s 3us/sample - loss: 0.5326 - acc: 0.7900\n"
          ],
          "name": "stdout"
        },
        {
          "output_type": "execute_result",
          "data": {
            "text/plain": [
              "(0.5326291918754578, 0.79)"
            ]
          },
          "metadata": {
            "tags": []
          },
          "execution_count": 18
        }
      ]
    },
    {
      "cell_type": "code",
      "metadata": {
        "id": "d8x9kNbyEGmM",
        "colab_type": "code",
        "outputId": "f021761b-33dd-435b-956a-7f93d4d22f84",
        "colab": {
          "base_uri": "https://localhost:8080/",
          "height": 607
        }
      },
      "source": [
        "plot_history(history)"
      ],
      "execution_count": 19,
      "outputs": [
        {
          "output_type": "display_data",
          "data": {
            "image/png": "[encoded data removed]",
            "text/plain": [
              "<Figure size 1440x720 with 2 Axes>"
            ]
          },
          "metadata": {
            "tags": []
          }
        }
      ]
    },
    {
      "cell_type": "code",
      "metadata": {
        "id": "wplkepEuEGmQ",
        "colab_type": "code",
        "outputId": "b05684b9-d0df-4fab-9d38-4b95affc2d23",
        "colab": {
          "base_uri": "https://localhost:8080/",
          "height": 607
        }
      },
      "source": [
        "plot_history(history, init_phase_samples=250, plot_line=True)"
      ],
      "execution_count": 20,
      "outputs": [
        {
          "output_type": "display_data",
          "data": {
            "image/png": "[encoded data removed]",
            "text/plain": [
              "<Figure size 1440x720 with 2 Axes>"
            ]
          },
          "metadata": {
            "tags": []
          }
        }
      ]
    },
    {
      "cell_type": "markdown",
      "metadata": {
        "id": "n2QyiAM8EGmT",
        "colab_type": "text"
      },
      "source": [
        "### Scores around 80% look good now, there might even be a bit more potential here, but we are not going after a final percent here"
      ]
    },
    {
      "cell_type": "markdown",
      "metadata": {
        "id": "3hdqOrJuEGmU",
        "colab_type": "text"
      },
      "source": [
        "## We now seem to have a decent model, so we save it for the next steps"
      ]
    },
    {
      "cell_type": "code",
      "metadata": {
        "id": "0JJoZoazEGmW",
        "colab_type": "code",
        "colab": {}
      },
      "source": [
        "model.save('insurance.h5')"
      ],
      "execution_count": 0,
      "outputs": []
    },
    {
      "cell_type": "code",
      "metadata": {
        "id": "rGI2f8nMEGmZ",
        "colab_type": "code",
        "outputId": "8b6fe7d1-368d-40a3-cc99-29422c69ddce",
        "colab": {
          "base_uri": "https://localhost:8080/",
          "height": 35
        }
      },
      "source": [
        "# the model has a decent size as we only have a little more than 10.000 parameters\n",
        "!ls -l insurance.h5"
      ],
      "execution_count": 22,
      "outputs": [
        {
          "output_type": "stream",
          "text": [
            "-rw-r--r-- 1 root root 188120 Mar 21 15:39 insurance.h5\n"
          ],
          "name": "stdout"
        }
      ]
    },
    {
      "cell_type": "code",
      "metadata": {
        "id": "nK8l17GREGmg",
        "colab_type": "code",
        "colab": {}
      },
      "source": [
        ""
      ],
      "execution_count": 0,
      "outputs": []
    }
  ]
}