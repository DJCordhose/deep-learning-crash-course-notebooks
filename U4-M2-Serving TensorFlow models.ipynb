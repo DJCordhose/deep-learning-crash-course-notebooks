{
 "cells": [
  {
   "cell_type": "markdown",
   "metadata": {},
   "source": [
    "# Serving TensorFlow models"
   ]
  },
  {
   "cell_type": "code",
   "execution_count": 1,
   "metadata": {},
   "outputs": [],
   "source": [
    "import warnings\n",
    "warnings.filterwarnings('ignore')"
   ]
  },
  {
   "cell_type": "code",
   "execution_count": 2,
   "metadata": {},
   "outputs": [
    {
     "name": "stdout",
     "output_type": "stream",
     "text": [
      "Populating the interactive namespace from numpy and matplotlib\n"
     ]
    }
   ],
   "source": [
    "%matplotlib inline\n",
    "%pylab inline\n",
    "import matplotlib.pyplot as plt"
   ]
  },
  {
   "cell_type": "code",
   "execution_count": 3,
   "metadata": {},
   "outputs": [
    {
     "name": "stdout",
     "output_type": "stream",
     "text": [
      "tf/1:\n",
      "total 616\n",
      "-rw-r--r-- 1 olive 197609 625641 Sep 14 09:35 saved_model.pb\n",
      "drwxr-xr-x 1 olive 197609      0 Sep 14 09:35 variables\n",
      "\n",
      "tf/1/variables:\n",
      "total 272\n",
      "-rw-r--r-- 1 olive 197609 272200 Sep 14 09:35 variables.data-00000-of-00001\n",
      "-rw-r--r-- 1 olive 197609   2847 Sep 14 09:35 variables.index\n"
     ]
    }
   ],
   "source": [
    "!ls -l tf/1 tf/1/variables"
   ]
  },
  {
   "cell_type": "code",
   "execution_count": 4,
   "metadata": {},
   "outputs": [],
   "source": [
    "# https://www.tensorflow.org/guide/saved_model#cli_to_inspect_and_execute_savedmodel"
   ]
  },
  {
   "cell_type": "code",
   "execution_count": 5,
   "metadata": {},
   "outputs": [
    {
     "name": "stdout",
     "output_type": "stream",
     "text": [
      "The given SavedModel contains the following tag-sets:\n",
      "serve\n"
     ]
    }
   ],
   "source": [
    "!saved_model_cli show --dir tf/1"
   ]
  },
  {
   "cell_type": "code",
   "execution_count": 6,
   "metadata": {},
   "outputs": [
    {
     "name": "stdout",
     "output_type": "stream",
     "text": [
      "The given SavedModel MetaGraphDef contains SignatureDefs with the following keys:\n",
      "SignatureDef key: \"serving_default\"\n"
     ]
    }
   ],
   "source": [
    "!saved_model_cli show --dir tf/1 --tag_set serve"
   ]
  },
  {
   "cell_type": "code",
   "execution_count": 7,
   "metadata": {},
   "outputs": [
    {
     "name": "stdout",
     "output_type": "stream",
     "text": [
      "The given SavedModel SignatureDef contains the following input(s):\n",
      "  inputs['inputs'] tensor_info:\n",
      "      dtype: DT_FLOAT\n",
      "      shape: (-1, 3)\n",
      "      name: hidden1_input_1:0\n",
      "The given SavedModel SignatureDef contains the following output(s):\n",
      "  outputs['scores'] tensor_info:\n",
      "      dtype: DT_FLOAT\n",
      "      shape: (-1, 3)\n",
      "      name: softmax_1/Softmax:0\n",
      "Method name is: tensorflow/serving/predict\n"
     ]
    }
   ],
   "source": [
    "!saved_model_cli show --dir tf/1 --tag_set serve --signature_def serving_default"
   ]
  },
  {
   "cell_type": "code",
   "execution_count": 8,
   "metadata": {},
   "outputs": [
    {
     "name": "stdout",
     "output_type": "stream",
     "text": [
      "Result for output key scores:\n",
      "[[0.00259071 0.8607017  0.13670751]]\n"
     ]
    },
    {
     "name": "stderr",
     "output_type": "stream",
     "text": [
      "2018-09-14 09:42:06.995967: I T:\\src\\github\\tensorflow\\tensorflow\\core\\platform\\cpu_feature_guard.cc:141] Your CPU supports instructions that this TensorFlow binary was not compiled to use: AVX2\n",
      "2018-09-14 09:42:07.329181: I T:\\src\\github\\tensorflow\\tensorflow\\core\\common_runtime\\gpu\\gpu_device.cc:1405] Found device 0 with properties: \n",
      "name: GeForce GTX 1060 major: 6 minor: 1 memoryClockRate(GHz): 1.569\n",
      "pciBusID: 0000:02:00.0\n",
      "totalMemory: 6.00GiB freeMemory: 4.97GiB\n",
      "2018-09-14 09:42:07.329606: I T:\\src\\github\\tensorflow\\tensorflow\\core\\common_runtime\\gpu\\gpu_device.cc:1484] Adding visible gpu devices: 0\n",
      "2018-09-14 09:42:08.057651: I T:\\src\\github\\tensorflow\\tensorflow\\core\\common_runtime\\gpu\\gpu_device.cc:965] Device interconnect StreamExecutor with strength 1 edge matrix:\n",
      "2018-09-14 09:42:08.057923: I T:\\src\\github\\tensorflow\\tensorflow\\core\\common_runtime\\gpu\\gpu_device.cc:971]      0 \n",
      "2018-09-14 09:42:08.058093: I T:\\src\\github\\tensorflow\\tensorflow\\core\\common_runtime\\gpu\\gpu_device.cc:984] 0:   N \n",
      "2018-09-14 09:42:08.058385: I T:\\src\\github\\tensorflow\\tensorflow\\core\\common_runtime\\gpu\\gpu_device.cc:1097] Created TensorFlow device (/job:localhost/replica:0/task:0/device:GPU:0 with 4730 MB memory) -> physical GPU (device: 0, name: GeForce GTX 1060, pci bus id: 0000:02:00.0, compute capability: 6.1)\n"
     ]
    }
   ],
   "source": [
    "# 0: red\n",
    "# 1: green\n",
    "# 2: yellow\n",
    "\n",
    "!saved_model_cli run --dir tf/1 --tag_set serve --signature_def serving_default --input_exprs inputs=[[100.0,47.0,10.0]]"
   ]
  },
  {
   "cell_type": "markdown",
   "metadata": {},
   "source": [
    "### Hosting your model on Google Cloud ML\n",
    "* https://cloud.google.com/ml-engine/docs/tensorflow/deploying-models\n",
    "* https://cloud.google.com/sdk/install\n",
    "  * https://cloud.google.com/sdk/docs/downloads-interactive\n"
   ]
  },
  {
   "cell_type": "code",
   "execution_count": 17,
   "metadata": {},
   "outputs": [
    {
     "name": "stderr",
     "output_type": "stream",
     "text": [
      "'gsutil' is not recognized as an internal or external command,\n",
      "operable program or batch file.\n"
     ]
    }
   ],
   "source": [
    "# first we need to create a bucket on the goolge cloud and upload our model to it\n",
    "# https://cloud.google.com/storage/docs/creating-buckets#storage-create-bucket-gsutil\n",
    "\n",
    "!gsutil mb gs://manning_bucket\n",
    "!gsutil cp -R tf/1 gs://manning_bucket"
   ]
  },
  {
   "cell_type": "code",
   "execution_count": null,
   "metadata": {},
   "outputs": [],
   "source": [
    "!gcloud ml-engine models create \"manning_insurance_1\"\n",
    "!gcloud ml-engine versions create \"v1\" --model \"manning_insurance_1\" --origin gs://manning_bucket/1    \n",
    "!gcloud ml-engine versions describe \"v1\" --model \"manning_insurance_1\""
   ]
  },
  {
   "cell_type": "code",
   "execution_count": 19,
   "metadata": {},
   "outputs": [
    {
     "name": "stdout",
     "output_type": "stream",
     "text": [
      "{\"inputs\": [ 160,  18,  100]}\n",
      "{\"inputs\": [ 100,  47,  10]}\n",
      "{\"inputs\": [ 90,  20,  20]}\n"
     ]
    }
   ],
   "source": [
    "# one of each category\n",
    "!cat sample_insurance.json"
   ]
  },
  {
   "cell_type": "code",
   "execution_count": null,
   "metadata": {},
   "outputs": [],
   "source": [
    "# 0: red\n",
    "# 1: green\n",
    "# 2: yellow\n",
    "\n",
    "# https://cloud.google.com/ml-engine/docs/tensorflow/prediction-overview#getting_predictions\n",
    "!gcloud ml-engine predict --model \"manning_insurance_1\" --version \"v1\" --json-instances ./sample_insurance.json\n",
    "\n",
    "# SCORES\n",
    "# [0.8658562898635864, 7.318668918511809e-14, 0.13414366543293]\n",
    "# [0.002760800765827298, 0.8720880746841431, 0.12515118718147278]\n",
    "# [5.452934419736266e-05, 0.005952719133347273, 0.9939927458763123]"
   ]
  },
  {
   "cell_type": "code",
   "execution_count": 3,
   "metadata": {},
   "outputs": [
    {
     "name": "stdout",
     "output_type": "stream",
     "text": [
      "Requirement already satisfied: google-api-python-client in c:\\programdata\\anaconda3\\lib\\site-packages (1.7.4)\n",
      "Requirement already satisfied: httplib2<1dev,>=0.9.2 in c:\\programdata\\anaconda3\\lib\\site-packages (from google-api-python-client) (0.11.3)\n",
      "Requirement already satisfied: google-auth-httplib2>=0.0.3 in c:\\programdata\\anaconda3\\lib\\site-packages (from google-api-python-client) (0.0.3)\n",
      "Requirement already satisfied: uritemplate<4dev,>=3.0.0 in c:\\programdata\\anaconda3\\lib\\site-packages (from google-api-python-client) (3.0.0)\n",
      "Requirement already satisfied: google-auth>=1.4.1 in c:\\programdata\\anaconda3\\lib\\site-packages (from google-api-python-client) (1.5.1)\n",
      "Requirement already satisfied: six<2dev,>=1.6.1 in c:\\programdata\\anaconda3\\lib\\site-packages (from google-api-python-client) (1.11.0)\n",
      "Requirement already satisfied: rsa>=3.1.4 in c:\\programdata\\anaconda3\\lib\\site-packages (from google-auth>=1.4.1->google-api-python-client) (3.4.2)\n",
      "Requirement already satisfied: pyasn1-modules>=0.2.1 in c:\\programdata\\anaconda3\\lib\\site-packages (from google-auth>=1.4.1->google-api-python-client) (0.2.2)\n",
      "Requirement already satisfied: cachetools>=2.0.0 in c:\\programdata\\anaconda3\\lib\\site-packages (from google-auth>=1.4.1->google-api-python-client) (2.1.0)\n",
      "Requirement already satisfied: pyasn1>=0.1.3 in c:\\programdata\\anaconda3\\lib\\site-packages (from rsa>=3.1.4->google-auth>=1.4.1->google-api-python-client) (0.4.4)\n"
     ]
    },
    {
     "name": "stderr",
     "output_type": "stream",
     "text": [
      "twisted 18.7.0 requires PyHamcrest>=1.9.0, which is not installed.\n",
      "thinc 6.11.2 requires hypothesis<3,>=2, which is not installed.\n",
      "thinc 6.11.2 requires msgpack-python==0.5.4, which is not installed.\n",
      "thinc 6.11.2 has requirement msgpack-numpy==0.4.1, but you'll have msgpack-numpy 0.4.3 which is incompatible.\n",
      "tensorflow-tensorboard 1.5.1 has requirement bleach==1.5.0, but you'll have bleach 2.1.3 which is incompatible.\n",
      "tensorflow-tensorboard 1.5.1 has requirement html5lib==0.9999999, but you'll have html5lib 1.0.1 which is incompatible.\n",
      "spacy 2.0.11 has requirement regex==2017.4.5, but you'll have regex 2018.6.21 which is incompatible.\n",
      "spacy 2.0.11 has requirement thinc<6.11.0,>=6.10.1, but you'll have thinc 6.11.2 which is incompatible.\n",
      "You are using pip version 10.0.1, however version 18.0 is available.\n",
      "You should consider upgrading via the 'python -m pip install --upgrade pip' command.\n"
     ]
    }
   ],
   "source": [
    "!pip install google-api-python-client"
   ]
  },
  {
   "cell_type": "code",
   "execution_count": 24,
   "metadata": {},
   "outputs": [
    {
     "name": "stdout",
     "output_type": "stream",
     "text": [
      "Requirement already satisfied: tensorflow-serving-api in c:\\programdata\\anaconda3\\lib\\site-packages (1.9.1)\n",
      "Requirement already satisfied: grpcio>=1.0<2 in c:\\programdata\\anaconda3\\lib\\site-packages (from tensorflow-serving-api) (1.14.1)\n",
      "Requirement already satisfied: protobuf==3.6.0 in c:\\programdata\\anaconda3\\lib\\site-packages (from tensorflow-serving-api) (3.6.0)\n",
      "Requirement already satisfied: tensorflow<2,>=1.2.0 in c:\\programdata\\anaconda3\\lib\\site-packages (from tensorflow-serving-api) (1.10.0)\n",
      "Requirement already satisfied: six>=1.5.2 in c:\\programdata\\anaconda3\\lib\\site-packages (from grpcio>=1.0<2->tensorflow-serving-api) (1.11.0)\n",
      "Requirement already satisfied: setuptools in c:\\programdata\\anaconda3\\lib\\site-packages (from protobuf==3.6.0->tensorflow-serving-api) (39.1.0)\n",
      "Requirement already satisfied: tensorboard<1.11.0,>=1.10.0 in c:\\programdata\\anaconda3\\lib\\site-packages (from tensorflow<2,>=1.2.0->tensorflow-serving-api) (1.10.0)\n",
      "Requirement already satisfied: numpy<=1.14.5,>=1.13.3 in c:\\programdata\\anaconda3\\lib\\site-packages (from tensorflow<2,>=1.2.0->tensorflow-serving-api) (1.14.5)\n",
      "Requirement already satisfied: wheel>=0.26 in c:\\programdata\\anaconda3\\lib\\site-packages (from tensorflow<2,>=1.2.0->tensorflow-serving-api) (0.31.1)\n",
      "Requirement already satisfied: astor>=0.6.0 in c:\\programdata\\anaconda3\\lib\\site-packages (from tensorflow<2,>=1.2.0->tensorflow-serving-api) (0.7.1)\n",
      "Requirement already satisfied: termcolor>=1.1.0 in c:\\programdata\\anaconda3\\lib\\site-packages (from tensorflow<2,>=1.2.0->tensorflow-serving-api) (1.1.0)\n",
      "Requirement already satisfied: gast>=0.2.0 in c:\\programdata\\anaconda3\\lib\\site-packages (from tensorflow<2,>=1.2.0->tensorflow-serving-api) (0.2.0)\n",
      "Requirement already satisfied: absl-py>=0.1.6 in c:\\programdata\\anaconda3\\lib\\site-packages (from tensorflow<2,>=1.2.0->tensorflow-serving-api) (0.3.0)\n",
      "Requirement already satisfied: markdown>=2.6.8 in c:\\programdata\\anaconda3\\lib\\site-packages (from tensorboard<1.11.0,>=1.10.0->tensorflow<2,>=1.2.0->tensorflow-serving-api) (2.6.11)\n",
      "Requirement already satisfied: werkzeug>=0.11.10 in c:\\programdata\\anaconda3\\lib\\site-packages (from tensorboard<1.11.0,>=1.10.0->tensorflow<2,>=1.2.0->tensorflow-serving-api) (0.14.1)\n"
     ]
    },
    {
     "name": "stderr",
     "output_type": "stream",
     "text": [
      "twisted 18.7.0 requires PyHamcrest>=1.9.0, which is not installed.\n",
      "thinc 6.11.2 requires hypothesis<3,>=2, which is not installed.\n",
      "thinc 6.11.2 requires msgpack-python==0.5.4, which is not installed.\n",
      "thinc 6.11.2 has requirement msgpack-numpy==0.4.1, but you'll have msgpack-numpy 0.4.3 which is incompatible.\n",
      "tensorflow-tensorboard 1.5.1 has requirement bleach==1.5.0, but you'll have bleach 2.1.3 which is incompatible.\n",
      "tensorflow-tensorboard 1.5.1 has requirement html5lib==0.9999999, but you'll have html5lib 1.0.1 which is incompatible.\n",
      "spacy 2.0.11 has requirement regex==2017.4.5, but you'll have regex 2018.6.21 which is incompatible.\n",
      "spacy 2.0.11 has requirement thinc<6.11.0,>=6.10.1, but you'll have thinc 6.11.2 which is incompatible.\n",
      "You are using pip version 10.0.1, however version 18.0 is available.\n",
      "You should consider upgrading via the 'python -m pip install --upgrade pip' command.\n"
     ]
    }
   ],
   "source": [
    "!pip install tensorflow-serving-api"
   ]
  },
  {
   "cell_type": "code",
   "execution_count": 1,
   "metadata": {},
   "outputs": [],
   "source": [
    "# https://github.com/GoogleCloudPlatform/python-docs-samples/blob/master/ml_engine/online_prediction/predict.py\n",
    "# https://cloud.google.com/ml-engine/docs/tensorflow/online-predict\n",
    "\n",
    "import googleapiclient.discovery\n",
    "\n",
    "def predict_json(project, model, instances, version=None):\n",
    "    \"\"\"Send json data to a deployed model for prediction.\n",
    "\n",
    "    Args:\n",
    "        project (str): project where the Cloud ML Engine Model is deployed.\n",
    "        model (str): model name.\n",
    "        instances ([Mapping[str: Any]]): Keys should be the names of Tensors\n",
    "            your deployed model expects as inputs. Values should be datatypes\n",
    "            convertible to Tensors, or (potentially nested) lists of datatypes\n",
    "            convertible to tensors.\n",
    "        version: str, version of the model to target.\n",
    "    Returns:\n",
    "        Mapping[str: any]: dictionary of prediction results defined by the\n",
    "            model.\n",
    "    \"\"\"\n",
    "    # Create the ML Engine service object.\n",
    "    # To authenticate set the environment variable\n",
    "    # GOOGLE_APPLICATION_CREDENTIALS=<path_to_service_account_file>\n",
    "    service = googleapiclient.discovery.build('ml', 'v1')\n",
    "    name = 'projects/{}/models/{}'.format(project, model)\n",
    "\n",
    "    if version is not None:\n",
    "        name += '/versions/{}'.format(version)\n",
    "\n",
    "    response = service.projects().predict(\n",
    "        name=name,\n",
    "        body={'instances': instances}\n",
    "    ).execute()\n",
    "\n",
    "    if 'error' in response:\n",
    "        raise RuntimeError(response['error'])\n",
    "\n",
    "    return response['predictions']"
   ]
  },
  {
   "cell_type": "code",
   "execution_count": 2,
   "metadata": {},
   "outputs": [
    {
     "data": {
      "text/plain": [
       "[{'scores': [0.8658562898635864, 7.318668918511809e-14, 0.13414366543293]},\n",
       " {'scores': [0.002760800765827298, 0.8720880746841431, 0.12515118718147278]},\n",
       " {'scores': [5.452934419736266e-05, 0.005952719133347273, 0.9939927458763123]}]"
      ]
     },
     "execution_count": 2,
     "metadata": {},
     "output_type": "execute_result"
    }
   ],
   "source": [
    "instances = [{\"inputs\": [ 160,  18,  100]}, {\"inputs\": [ 100,  47,  10]}, {\"inputs\": [ 90,  20,  20]}]\n",
    "predict_json(\"sandboxolli\", \"manning_insurance_1\", instances=instances)"
   ]
  },
  {
   "cell_type": "markdown",
   "metadata": {},
   "source": [
    "## Running on a dedicated Linux Server\n",
    "### From here-on you will need a Linux Server that has a proper installation of TensorFlow and the TensorFlow Server\n",
    "* https://www.tensorflow.org/install/install_linux\n",
    "* https://www.tensorflow.org/serving/setup"
   ]
  },
  {
   "cell_type": "code",
   "execution_count": null,
   "metadata": {},
   "outputs": [],
   "source": [
    "# https://www.tensorflow.org/serving/\n",
    "# https://github.com/tensorflow/serving/blob/master/tensorflow_serving/g3doc/setup.md#tensorflow-serving-python-api-pip-package-pip\n",
    "\n",
    "!tensorflow_model_server --port=9000 --model_name=manning_insurance_1 --model_base_path=$(pwd)/tf"
   ]
  },
  {
   "cell_type": "code",
   "execution_count": null,
   "metadata": {},
   "outputs": [],
   "source": [
    "# https://www.tensorflow.org/serving/api_rest\n",
    "\n",
    "!tensorflow_model_server --rest_api_port=8501 \\\n",
    "   --model_name=manning_insurance_1 \\\n",
    "   --model_base_path=$(pwd)/tf"
   ]
  },
  {
   "cell_type": "code",
   "execution_count": 2,
   "metadata": {},
   "outputs": [
    {
     "name": "stdout",
     "output_type": "stream",
     "text": [
      "{ \"error\": \"JSON Parse error: Invalid value. at offset: 0\" }\n"
     ]
    },
    {
     "name": "stderr",
     "output_type": "stream",
     "text": [
      "  % Total    % Received % Xferd  Average Speed   Time    Time     Time  Current\n",
      "                                 Dload  Upload   Total   Spent    Left  Speed\n",
      "\n",
      "  0     0    0     0    0     0      0      0 --:--:-- --:--:-- --:--:--     0\n",
      "  0     0    0     0    0     0      0      0 --:--:-- --:--:-- --:--:--     0curl: (6) Could not resolve host: instances\n",
      "curl: (3) [globbing] bad range specification in column 2\n",
      "curl: (3) [globbing] bad range specification in column 2\n",
      "curl: (6) Could not resolve host: 100.0,\n",
      "curl: (6) Could not resolve host: 47.0,\n",
      "curl: (3) [globbing] unmatched close brace/bracket in column 5\n",
      "\n",
      "100    62  100    60  100     2  60000   2000 --:--:-- --:--:-- --:--:-- 62000\n"
     ]
    }
   ],
   "source": [
    "!curl -d '{ \"instances\": [{\"inputs\": [ 100.0,  47.0,  10.0]}]}' -X POST http://localhost:8501/v1/models/manning_insurance_1:predict\n",
    "# {\n",
    "#     \"predictions\": [[0.0027608, 0.872088, 0.125151]\n",
    "#     ]\n",
    "# }"
   ]
  }
 ],
 "metadata": {
  "kernelspec": {
   "display_name": "Python 3",
   "language": "python",
   "name": "python3"
  },
  "language_info": {
   "codemirror_mode": {
    "name": "ipython",
    "version": 3
   },
   "file_extension": ".py",
   "mimetype": "text/x-python",
   "name": "python",
   "nbconvert_exporter": "python",
   "pygments_lexer": "ipython3",
   "version": "3.6.6"
  }
 },
 "nbformat": 4,
 "nbformat_minor": 1
}
