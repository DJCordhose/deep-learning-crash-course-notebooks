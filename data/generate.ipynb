{
 "cells": [
  {
   "cell_type": "markdown",
   "metadata": {},
   "source": [
    "# Generating Sample Data from Distributions\n",
    "Then treating data as if they were samples of real data"
   ]
  },
  {
   "cell_type": "code",
   "execution_count": 1,
   "metadata": {},
   "outputs": [],
   "source": [
    "import warnings\n",
    "warnings.filterwarnings('ignore')"
   ]
  },
  {
   "cell_type": "code",
   "execution_count": 2,
   "metadata": {},
   "outputs": [
    {
     "name": "stdout",
     "output_type": "stream",
     "text": [
      "Populating the interactive namespace from numpy and matplotlib\n"
     ]
    }
   ],
   "source": [
    "%matplotlib inline\n",
    "%pylab inline"
   ]
  },
  {
   "cell_type": "code",
   "execution_count": 3,
   "metadata": {},
   "outputs": [
    {
     "name": "stdout",
     "output_type": "stream",
     "text": [
      "0.23.4\n"
     ]
    }
   ],
   "source": [
    "import pandas as pd\n",
    "print(pd.__version__)"
   ]
  },
  {
   "cell_type": "markdown",
   "metadata": {},
   "source": [
    "# Plot randomly generated classification dataset\n",
    "\n",
    "http://scikit-learn.org/stable/auto_examples/datasets/plot_random_dataset.html\n",
    "\n",
    "http://scikit-learn.org/stable/datasets/index.html#sample-generators\n",
    "\n",
    "http://scikit-learn.org/stable/modules/generated/sklearn.datasets.make_classification.html\n",
    "\n",
    "Plot several randomly generated 2D classification datasets.\n",
    "This example illustrates the :func:`datasets.make_classification`\n",
    ":func:`datasets.make_blobs` and :func:`datasets.make_gaussian_quantiles`\n",
    "functions.\n",
    "\n",
    "For ``make_classification``, three binary and two multi-class classification\n",
    "datasets are generated, with different numbers of informative features and\n",
    "clusters per class.  \n"
   ]
  },
  {
   "cell_type": "code",
   "execution_count": 20,
   "metadata": {},
   "outputs": [],
   "source": [
    "import numpy as np\n",
    "\n",
    "from sklearn.datasets import make_classification\n",
    "from sklearn.datasets import make_blobs\n",
    "\n",
    "N_SAMPLES = 500\n",
    "\n",
    "TRAIN_SEED = 42\n",
    "TEST_SEED = 13\n",
    "\n",
    "# change seed for test data set\n",
    "# SEED = TRAIN_SEED\n",
    "SEED = TEST_SEED\n",
    "\n",
    "# http://scikit-learn.org/stable/modules/generated/sklearn.datasets.make_blobs.html#sklearn.datasets.make_blobs\n",
    "\n",
    "# https://www.welt.de/motor/news/article156991316/Unfallstatistik-2015.html\n",
    "# http://www.openculture.com/2017/12/why-incompetent-people-think-theyre-amazing.html\n",
    "# 0: young drivers with fast cars: red\n",
    "# 1: reasonable drivers: green\n",
    "# 2: a little bit older, more kilometers, general noise: yellow\n",
    "# 3: really old drivers: red\n",
    "# 4: young drivers: red\n",
    "# 5: another green just to have a counter part to all the red ones: green\n",
    "# 6: people who do not drive a lot: green\n",
    "# 7: people who drive a lot: yellow\n",
    "# 8: young people with slow cars: yellow\n",
    "\n",
    "centers = [(150, 35, 50), (110, 50, 25), (120, 55, 30), (120, 75, 20), (120, 30, 30), \n",
    "           (140, 45, 40), (110, 40, 15), (130, 50, 45), (100, 25, 15)]\n",
    "cluster_std = [4, 9, 18, 8, 9, 5, 8, 12, 5]\n",
    "\n",
    "# X, y = make_blobs(n_samples=300, n_features=3, centers=centers, random_state=13, cluster_std = cluster_std)\n",
    "# X, y = make_blobs(n_samples=300, n_features=3, centers=centers, random_state=42, cluster_std = cluster_std)\n",
    "X, y = make_blobs(n_samples=N_SAMPLES, n_features=3, centers=centers, random_state=SEED, cluster_std = cluster_std)\n",
    "\n",
    "# http://scikit-learn.org/stable/modules/generated/sklearn.datasets.make_classification.html\n",
    "# X, y = make_classification(n_features=3, n_redundant=0, n_informative=3,\n",
    "#                              n_clusters_per_class=2, n_classes=3, random_state=42)\n",
    "\n",
    "feature_names = ['speed', 'age' ,'miles']\n",
    "df = pd.DataFrame(X, columns=feature_names)\n",
    "df = df.round()\n",
    "# https://pandas.pydata.org/pandas-docs/stable/generated/pandas.Series.clip.html\n",
    "\n",
    "df['speed'] = df['speed'].clip(60,200)\n",
    "df['age'] = df['age'].clip(16,100)\n",
    "df['miles'] = df['miles'].clip(1,500)\n",
    "\n",
    "# merges clusters into one group\n",
    "for group in np.nditer(y, op_flags=['readwrite']):\n",
    "    if group == 3 or group == 4:\n",
    "        group[...] = 0\n",
    "    if group == 5 or group == 6:\n",
    "        group[...] = 1\n",
    "    if group == 7 or group == 8:\n",
    "        group[...] = 2"
   ]
  },
  {
   "cell_type": "code",
   "execution_count": 21,
   "metadata": {},
   "outputs": [],
   "source": [
    "df['group'] = y"
   ]
  },
  {
   "cell_type": "code",
   "execution_count": 22,
   "metadata": {},
   "outputs": [
    {
     "data": {
      "text/html": [
       "<div>\n",
       "<style scoped>\n",
       "    .dataframe tbody tr th:only-of-type {\n",
       "        vertical-align: middle;\n",
       "    }\n",
       "\n",
       "    .dataframe tbody tr th {\n",
       "        vertical-align: top;\n",
       "    }\n",
       "\n",
       "    .dataframe thead th {\n",
       "        text-align: right;\n",
       "    }\n",
       "</style>\n",
       "<table border=\"1\" class=\"dataframe\">\n",
       "  <thead>\n",
       "    <tr style=\"text-align: right;\">\n",
       "      <th></th>\n",
       "      <th>speed</th>\n",
       "      <th>age</th>\n",
       "      <th>miles</th>\n",
       "      <th>group</th>\n",
       "    </tr>\n",
       "  </thead>\n",
       "  <tbody>\n",
       "    <tr>\n",
       "      <th>count</th>\n",
       "      <td>500.000000</td>\n",
       "      <td>500.000000</td>\n",
       "      <td>500.000000</td>\n",
       "      <td>500.000000</td>\n",
       "    </tr>\n",
       "    <tr>\n",
       "      <th>mean</th>\n",
       "      <td>122.220000</td>\n",
       "      <td>45.342000</td>\n",
       "      <td>29.852000</td>\n",
       "      <td>0.996000</td>\n",
       "    </tr>\n",
       "    <tr>\n",
       "      <th>std</th>\n",
       "      <td>16.857995</td>\n",
       "      <td>16.724127</td>\n",
       "      <td>15.367186</td>\n",
       "      <td>0.818121</td>\n",
       "    </tr>\n",
       "    <tr>\n",
       "      <th>min</th>\n",
       "      <td>87.000000</td>\n",
       "      <td>16.000000</td>\n",
       "      <td>1.000000</td>\n",
       "      <td>0.000000</td>\n",
       "    </tr>\n",
       "    <tr>\n",
       "      <th>25%</th>\n",
       "      <td>109.000000</td>\n",
       "      <td>33.000000</td>\n",
       "      <td>18.000000</td>\n",
       "      <td>0.000000</td>\n",
       "    </tr>\n",
       "    <tr>\n",
       "      <th>50%</th>\n",
       "      <td>120.000000</td>\n",
       "      <td>42.500000</td>\n",
       "      <td>29.000000</td>\n",
       "      <td>1.000000</td>\n",
       "    </tr>\n",
       "    <tr>\n",
       "      <th>75%</th>\n",
       "      <td>135.000000</td>\n",
       "      <td>55.000000</td>\n",
       "      <td>41.000000</td>\n",
       "      <td>2.000000</td>\n",
       "    </tr>\n",
       "    <tr>\n",
       "      <th>max</th>\n",
       "      <td>160.000000</td>\n",
       "      <td>96.000000</td>\n",
       "      <td>76.000000</td>\n",
       "      <td>2.000000</td>\n",
       "    </tr>\n",
       "  </tbody>\n",
       "</table>\n",
       "</div>"
      ],
      "text/plain": [
       "            speed         age       miles       group\n",
       "count  500.000000  500.000000  500.000000  500.000000\n",
       "mean   122.220000   45.342000   29.852000    0.996000\n",
       "std     16.857995   16.724127   15.367186    0.818121\n",
       "min     87.000000   16.000000    1.000000    0.000000\n",
       "25%    109.000000   33.000000   18.000000    0.000000\n",
       "50%    120.000000   42.500000   29.000000    1.000000\n",
       "75%    135.000000   55.000000   41.000000    2.000000\n",
       "max    160.000000   96.000000   76.000000    2.000000"
      ]
     },
     "execution_count": 22,
     "metadata": {},
     "output_type": "execute_result"
    }
   ],
   "source": [
    "df.describe()"
   ]
  },
  {
   "cell_type": "code",
   "execution_count": 23,
   "metadata": {},
   "outputs": [],
   "source": [
    "# df.to_csv('./insurance-customers-300-2.csv', sep=';', index=False)\n",
    "# df.to_csv('./insurance-customers-300.csv', sep=';', index=False)\n",
    "# df.to_csv('./insurance-customers-1500.csv', sep=';', index=False)\n",
    "# df.to_csv('./insurance-customers-10000.csv', sep=';', index=False)\n",
    "df.to_csv('./insurance-customers-500-test.csv', sep=';', index=False)"
   ]
  },
  {
   "cell_type": "code",
   "execution_count": 24,
   "metadata": {},
   "outputs": [],
   "source": [
    "# check\n",
    "# !curl -O https://raw.githubusercontent.com/DJCordhose/data-viz/master/data/insurance-customers-1500.csv\n",
    "# !curl -O https://raw.githubusercontent.com/DJCordhose/data-viz/master/data/insurance-customers-300.csv    "
   ]
  },
  {
   "cell_type": "code",
   "execution_count": 25,
   "metadata": {},
   "outputs": [
    {
     "name": "stdout",
     "output_type": "stream",
     "text": [
      "total 6777\n",
      "-rw-r--r-- 1 olive 197609   15195 Mar 28 17:31 0-generate.ipynb\n",
      "drwxr-xr-x 1 olive 197609       0 Mar 14 23:44 data\n",
      "drwxr-xr-x 1 olive 197609       0 Mar 14 23:44 figures\n",
      "-rw-r--r-- 1 olive 197609  188340 Mar 28 17:27 insurance-customers-10000.csv\n",
      "-rw-r--r-- 1 olive 197609    9459 Mar 28 17:27 insurance-customers-500.csv\n",
      "-rw-r--r-- 1 olive 197609    9441 Mar 28 17:31 insurance-customers-500-test.csv\n",
      "drwxr-xr-x 1 olive 197609       0 Mar 14 23:44 model\n",
      "-rw-r--r-- 1 olive 197609    5680 Mar 14 23:44 production preparation.ipynb\n",
      "-rw-r--r-- 1 olive 197609      88 Mar 14 23:44 sample_insurance.json\n",
      "drwxr-xr-x 1 olive 197609       0 Mar 14 23:44 tf\n",
      "-rw-r--r-- 1 olive 197609  635656 Mar 14 23:44 U3-M1-example.ipynb\n",
      "-rw-r--r-- 1 olive 197609 3652988 Mar 14 23:44 U3-M2-nn-intro.ipynb\n",
      "-rw-r--r-- 1 olive 197609 2016209 Mar 14 23:44 U3-M3-nn-no-bullshit.ipynb\n",
      "-rw-r--r-- 1 olive 197609  343107 Mar 14 23:44 U3-M3-nn-simplified.ipynb\n",
      "-rw-r--r-- 1 olive 197609    8412 Mar 14 23:44 U4-M1-Preparing TensorFlow models.ipynb\n",
      "-rw-r--r-- 1 olive 197609   20381 Mar 14 23:44 U4-M2-Serving TensorFlow models.ipynb\n",
      "-rw-r--r-- 1 olive 197609    9954 Mar 14 23:44 U4-M3-Deploying to the Browser using TensorFlow.js.ipynb\n"
     ]
    }
   ],
   "source": [
    "!ls -l"
   ]
  },
  {
   "cell_type": "code",
   "execution_count": 26,
   "metadata": {},
   "outputs": [],
   "source": [
    "# customers = pd.read_csv('./insurance-customers-300.csv', sep=';')\n",
    "# customers = pd.read_csv('./insurance-customers-1500.csv', sep=';')\n",
    "# customers = pd.read_csv('./insurance-customers-10000.csv', sep=';')\n",
    "customers = pd.read_csv('./insurance-customers-500-test.csv', sep=';')"
   ]
  },
  {
   "cell_type": "code",
   "execution_count": 27,
   "metadata": {},
   "outputs": [
    {
     "data": {
      "text/html": [
       "<div>\n",
       "<style scoped>\n",
       "    .dataframe tbody tr th:only-of-type {\n",
       "        vertical-align: middle;\n",
       "    }\n",
       "\n",
       "    .dataframe tbody tr th {\n",
       "        vertical-align: top;\n",
       "    }\n",
       "\n",
       "    .dataframe thead th {\n",
       "        text-align: right;\n",
       "    }\n",
       "</style>\n",
       "<table border=\"1\" class=\"dataframe\">\n",
       "  <thead>\n",
       "    <tr style=\"text-align: right;\">\n",
       "      <th></th>\n",
       "      <th>speed</th>\n",
       "      <th>age</th>\n",
       "      <th>miles</th>\n",
       "      <th>group</th>\n",
       "    </tr>\n",
       "  </thead>\n",
       "  <tbody>\n",
       "    <tr>\n",
       "      <th>count</th>\n",
       "      <td>500.000000</td>\n",
       "      <td>500.000000</td>\n",
       "      <td>500.000000</td>\n",
       "      <td>500.000000</td>\n",
       "    </tr>\n",
       "    <tr>\n",
       "      <th>mean</th>\n",
       "      <td>122.220000</td>\n",
       "      <td>45.342000</td>\n",
       "      <td>29.852000</td>\n",
       "      <td>0.996000</td>\n",
       "    </tr>\n",
       "    <tr>\n",
       "      <th>std</th>\n",
       "      <td>16.857995</td>\n",
       "      <td>16.724127</td>\n",
       "      <td>15.367186</td>\n",
       "      <td>0.818121</td>\n",
       "    </tr>\n",
       "    <tr>\n",
       "      <th>min</th>\n",
       "      <td>87.000000</td>\n",
       "      <td>16.000000</td>\n",
       "      <td>1.000000</td>\n",
       "      <td>0.000000</td>\n",
       "    </tr>\n",
       "    <tr>\n",
       "      <th>25%</th>\n",
       "      <td>109.000000</td>\n",
       "      <td>33.000000</td>\n",
       "      <td>18.000000</td>\n",
       "      <td>0.000000</td>\n",
       "    </tr>\n",
       "    <tr>\n",
       "      <th>50%</th>\n",
       "      <td>120.000000</td>\n",
       "      <td>42.500000</td>\n",
       "      <td>29.000000</td>\n",
       "      <td>1.000000</td>\n",
       "    </tr>\n",
       "    <tr>\n",
       "      <th>75%</th>\n",
       "      <td>135.000000</td>\n",
       "      <td>55.000000</td>\n",
       "      <td>41.000000</td>\n",
       "      <td>2.000000</td>\n",
       "    </tr>\n",
       "    <tr>\n",
       "      <th>max</th>\n",
       "      <td>160.000000</td>\n",
       "      <td>96.000000</td>\n",
       "      <td>76.000000</td>\n",
       "      <td>2.000000</td>\n",
       "    </tr>\n",
       "  </tbody>\n",
       "</table>\n",
       "</div>"
      ],
      "text/plain": [
       "            speed         age       miles       group\n",
       "count  500.000000  500.000000  500.000000  500.000000\n",
       "mean   122.220000   45.342000   29.852000    0.996000\n",
       "std     16.857995   16.724127   15.367186    0.818121\n",
       "min     87.000000   16.000000    1.000000    0.000000\n",
       "25%    109.000000   33.000000   18.000000    0.000000\n",
       "50%    120.000000   42.500000   29.000000    1.000000\n",
       "75%    135.000000   55.000000   41.000000    2.000000\n",
       "max    160.000000   96.000000   76.000000    2.000000"
      ]
     },
     "execution_count": 27,
     "metadata": {},
     "output_type": "execute_result"
    }
   ],
   "source": [
    "customers.describe()"
   ]
  },
  {
   "cell_type": "code",
   "execution_count": null,
   "metadata": {},
   "outputs": [],
   "source": []
  }
 ],
 "metadata": {
  "kernelspec": {
   "display_name": "Python 3",
   "language": "python",
   "name": "python3"
  },
  "language_info": {
   "codemirror_mode": {
    "name": "ipython",
    "version": 3
   },
   "file_extension": ".py",
   "mimetype": "text/x-python",
   "name": "python",
   "nbconvert_exporter": "python",
   "pygments_lexer": "ipython3",
   "version": "3.7.1"
  }
 },
 "nbformat": 4,
 "nbformat_minor": 1
}
