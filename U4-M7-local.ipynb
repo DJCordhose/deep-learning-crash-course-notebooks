{
 "cells": [
  {
   "cell_type": "markdown",
   "metadata": {},
   "source": [
    "# Running on a dedicated Linux server\n",
    "## From here-on you will need a Linux server that has a proper installation of TensorFlow and the TensorFlow server\n",
    "* https://www.tensorflow.org/install/install_linux\n",
    "* https://www.tensorflow.org/serving/setup"
   ]
  },
  {
   "cell_type": "code",
   "execution_count": 3,
   "metadata": {},
   "outputs": [
    {
     "name": "stdout",
     "output_type": "stream",
     "text": [
      "total 616\n",
      "-rw-r--r-- 1 olive 197609 625641 Sep 14 09:35 saved_model.pb\n",
      "drwxr-xr-x 1 olive 197609      0 Sep 14 09:35 variables\n"
     ]
    }
   ],
   "source": [
    "!ls -l tf/1"
   ]
  },
  {
   "cell_type": "markdown",
   "metadata": {},
   "source": [
    "## Running a local TensorFlow server"
   ]
  },
  {
   "cell_type": "code",
   "execution_count": null,
   "metadata": {},
   "outputs": [],
   "source": [
    "# https://www.tensorflow.org/serving/\n",
    "# https://github.com/tensorflow/serving/blob/master/tensorflow_serving/g3doc/setup.md#tensorflow-serving-python-api-pip-package-pip\n",
    "\n",
    "!tensorflow_model_server --port=9000 --model_name=manning_insurance_1 --model_base_path=$(pwd)/tf"
   ]
  },
  {
   "cell_type": "markdown",
   "metadata": {},
   "source": [
    "## Running as a REST server"
   ]
  },
  {
   "cell_type": "code",
   "execution_count": null,
   "metadata": {},
   "outputs": [],
   "source": [
    "# https://www.tensorflow.org/serving/api_rest\n",
    "\n",
    "!tensorflow_model_server --rest_api_port=8501 \\\n",
    "   --model_name=manning_insurance_1 \\\n",
    "   --model_base_path=$(pwd)/tf"
   ]
  },
  {
   "cell_type": "code",
   "execution_count": 2,
   "metadata": {},
   "outputs": [
    {
     "name": "stdout",
     "output_type": "stream",
     "text": [
      "{ \"error\": \"JSON Parse error: Invalid value. at offset: 0\" }\n"
     ]
    },
    {
     "name": "stderr",
     "output_type": "stream",
     "text": [
      "  % Total    % Received % Xferd  Average Speed   Time    Time     Time  Current\n",
      "                                 Dload  Upload   Total   Spent    Left  Speed\n",
      "\n",
      "  0     0    0     0    0     0      0      0 --:--:-- --:--:-- --:--:--     0\n",
      "  0     0    0     0    0     0      0      0 --:--:-- --:--:-- --:--:--     0curl: (6) Could not resolve host: instances\n",
      "curl: (3) [globbing] bad range specification in column 2\n",
      "curl: (3) [globbing] bad range specification in column 2\n",
      "curl: (6) Could not resolve host: 100.0,\n",
      "curl: (6) Could not resolve host: 47.0,\n",
      "curl: (3) [globbing] unmatched close brace/bracket in column 5\n",
      "\n",
      "100    62  100    60  100     2  60000   2000 --:--:-- --:--:-- --:--:-- 62000\n"
     ]
    }
   ],
   "source": [
    "!curl -d '{ \"instances\": [{\"inputs\": [ 100.0,  47.0,  10.0]}]}' -X POST http://localhost:8501/v1/models/manning_insurance_1:predict\n",
    "# {\n",
    "#     \"predictions\": [[0.0027608, 0.872088, 0.125151]\n",
    "#     ]\n",
    "# }"
   ]
  }
 ],
 "metadata": {
  "kernelspec": {
   "display_name": "Python 3",
   "language": "python",
   "name": "python3"
  },
  "language_info": {
   "codemirror_mode": {
    "name": "ipython",
    "version": 3
   },
   "file_extension": ".py",
   "mimetype": "text/x-python",
   "name": "python",
   "nbconvert_exporter": "python",
   "pygments_lexer": "ipython3",
   "version": "3.6.6"
  }
 },
 "nbformat": 4,
 "nbformat_minor": 1
}
